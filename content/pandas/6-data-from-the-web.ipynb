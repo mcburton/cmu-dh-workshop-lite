{
 "cells": [
  {
   "cell_type": "markdown",
   "metadata": {},
   "source": [
    "# Retriving Data from the Web\n",
    "\n",
    "* We don't always have to download data to our local machines before loading it into Python\n",
    "* If the data are openly available on the web we can retrieve them programmatically\n",
    "    * We can even log into systems with access control, but that is a more complicated topic\n",
    "* Getting remote data requires the use of *web protocols* to GET data\n"
   ]
  },
  {
   "cell_type": "markdown",
   "metadata": {},
   "source": [
    "## What is HTTP\n",
    "\n",
    "* HTTP is the *HyperText Transfer Protocol* and is the lingua franca of the web\n",
    " > HTTP is a protocol which allows the fetching of resources, such as HTML documents. It is the foundation of any data exchange on the Web and a client-server protocol, which means requests are initiated by the recipient, usually the Web browser. A complete document is reconstructed from the different sub-documents fetched, for instance text, layout description, images, videos, scripts, and more. - [MDN Web Docs](https://developer.mozilla.org/en-US/docs/Web/HTTP/Overview)"
   ]
  },
  {
   "cell_type": "markdown",
   "metadata": {},
   "source": [
    "![HTTP Flow](images/http-flow.png)"
   ]
  },
  {
   "cell_type": "markdown",
   "metadata": {},
   "source": [
    "## Elements of HTTP\n",
    "\n",
    "* Request Methods - Verbs\n",
    "    * GET - Requests a representation of a specific resource. Retrieve only.\n",
    "    * POST - Submit an entity to a specified resource, often causing a change in state on the server.\n",
    "    * PUT - Replace the current representation of the specified resource with the request payload.\n",
    "    * DELETE - Remove the specified resource from the server.\n",
    "    * HEAD - Same as GET, but without the response body.\n",
    "* User Agent - Information about the application making the request\n",
    "* Headers - Metadata about the request\n",
    "* Body - Data sent or received\n"
   ]
  },
  {
   "cell_type": "markdown",
   "metadata": {},
   "source": [
    "## HTTP Status Codes\n",
    "\n",
    "* HTTP has five categories of status code\n",
    "    * 1xx: informational – used for development\n",
    "    * 2xx: Successful response\n",
    "    * 3xx: Redirection\n",
    "    * 4xx: Client Error\n",
    "    * 5xx: Server Error\n",
    "* Frequently used codes:\n",
    "    * 200 - success\n",
    "    * 301 and 302 - Moved permanently or temporarily\n",
    "    * 400 - bad request\n",
    "    * 401 - unauthorized\n",
    "    * 403 - forbidden\n",
    "    * 404 - not found\n"
   ]
  },
  {
   "cell_type": "markdown",
   "metadata": {},
   "source": [
    "## HTTP Request & Response\n",
    "\n",
    "![HTTP Request and Response](images/http-request-response.png)"
   ]
  },
  {
   "cell_type": "markdown",
   "metadata": {},
   "source": [
    "## Working with HTTP in Python\n",
    "\n",
    "* Because Python has the *batteries included* there is an [http client module](https://docs.python.org/3/library/http.client.html) as part of the standard library\n",
    "    * It is fine in a pinch, but there is a better 3rd party library\n",
    "* The [Requests](https://2.python-requests.org/en/master/) library by [Kenneth Reitz](https://www.kennethreitz.org/)\n",
    "    * It is *HTTP for humans*\n",
    "* Requests is the most popular library for fetching data from the web\n",
    "* It is very powerful, but we will only touch on a little bit of it today."
   ]
  },
  {
   "cell_type": "code",
   "execution_count": null,
   "metadata": {},
   "outputs": [],
   "source": [
    "# load the requests library\n",
    "import requests"
   ]
  },
  {
   "cell_type": "code",
   "execution_count": null,
   "metadata": {},
   "outputs": [],
   "source": [
    "# put the address of the page we want to load into a variable\n",
    "URL = \"http://loc.gov\"\n",
    "\n",
    "# make an HTTP GET request to the specified URL\n",
    "# Save the response in a variable\n",
    "response = requests.get(URL)\n"
   ]
  },
  {
   "cell_type": "code",
   "execution_count": null,
   "metadata": {},
   "outputs": [],
   "source": [
    "# Inspect the response status code\n",
    "response.status_code"
   ]
  },
  {
   "cell_type": "markdown",
   "metadata": {},
   "source": [
    "* This means tour HTTP request was successful \n",
    "* Requests makes it easy to inspect various bits of information related to our HTTP transaction"
   ]
  },
  {
   "cell_type": "code",
   "execution_count": null,
   "metadata": {},
   "outputs": [],
   "source": [
    "# Display the HTTP headers we got from the server\n",
    "response.headers"
   ]
  },
  {
   "cell_type": "code",
   "execution_count": null,
   "metadata": {},
   "outputs": [],
   "source": [
    "# Look at the content type of the resource we got back from the server\n",
    "response.headers['Content-Type']"
   ]
  },
  {
   "cell_type": "markdown",
   "metadata": {},
   "source": [
    "* This means we got an HTML document back from loc.gov\n",
    "* You can access the response body in the `response.text` or `response.content` fields\n",
    "    * Be careful, They can be really long!"
   ]
  },
  {
   "cell_type": "code",
   "execution_count": null,
   "metadata": {},
   "outputs": [],
   "source": [
    "# display the first 5000 characters of the response string\n",
    "response.text[0:1000]"
   ]
  },
  {
   "cell_type": "code",
   "execution_count": null,
   "metadata": {},
   "outputs": [],
   "source": [
    "# use the print function so the newlines aren't escaped\n",
    "print(response.text[0:1000])"
   ]
  },
  {
   "cell_type": "markdown",
   "metadata": {},
   "source": [
    "* From here we could use a library like [Beautiful Soup](https://www.crummy.com/software/BeautifulSoup/bs4/doc/) to parse the HTML and extract specific pieces of information"
   ]
  },
  {
   "cell_type": "code",
   "execution_count": null,
   "metadata": {},
   "outputs": [],
   "source": [
    "from bs4 import BeautifulSoup"
   ]
  },
  {
   "cell_type": "code",
   "execution_count": null,
   "metadata": {},
   "outputs": [],
   "source": [
    "# Grab the HTML page for the digitized books collection\n",
    "url = \"https://loc.gov/collections/selected-digitized-books\"\n",
    "response = requests.get(url)"
   ]
  },
  {
   "cell_type": "code",
   "execution_count": null,
   "metadata": {},
   "outputs": [],
   "source": [
    "# Parse the HTML string with BeautifulSoup so we can search it\n",
    "soup = BeautifulSoup(response.text)\n",
    "\n",
    "# find all the HTML elements with the titles\n",
    "span_elements = soup.findAll(\"span\", class_=\"item-description-title\")\n",
    "\n",
    "# Use a list comprehension to extract just the text from each HTML element\n",
    "titles = [item.text.strip() for item in span_elements]\n",
    "# Display the list of title strings\n",
    "titles"
   ]
  },
  {
   "cell_type": "markdown",
   "metadata": {},
   "source": [
    "* But we don't have to parse these titles from HTML\n",
    "* LC has provided a *much easier* way of programmatically accessing information"
   ]
  },
  {
   "cell_type": "code",
   "execution_count": null,
   "metadata": {},
   "outputs": [],
   "source": [
    "# Grab the JSON for the digital book collection\n",
    "url = \"https://loc.gov/collections/selected-digitized-books/?fo=json\"\n",
    "response = requests.get(url)"
   ]
  },
  {
   "cell_type": "code",
   "execution_count": null,
   "metadata": {},
   "outputs": [],
   "source": [
    "response.status_code"
   ]
  },
  {
   "cell_type": "code",
   "execution_count": null,
   "metadata": {},
   "outputs": [],
   "source": [
    "response.headers[\"Content-Type\"]"
   ]
  },
  {
   "cell_type": "code",
   "execution_count": null,
   "metadata": {},
   "outputs": [],
   "source": [
    "response.text[0:1000]"
   ]
  },
  {
   "cell_type": "markdown",
   "metadata": {},
   "source": [
    "* That looks like JSON!"
   ]
  },
  {
   "cell_type": "code",
   "execution_count": null,
   "metadata": {},
   "outputs": [],
   "source": [
    "collection = response.json()\n",
    "titles = [item['title'] for item in collection['results']]\n",
    "titles"
   ]
  },
  {
   "cell_type": "markdown",
   "metadata": {},
   "source": [
    "## Using HTTP Parameters with Requests\n",
    "\n",
    "* This time we are going to use some HTTP parameters to search for certain items\n",
    "* What we want to search for are images of kittens\n",
    "    * CUTE!"
   ]
  },
  {
   "cell_type": "code",
   "execution_count": null,
   "metadata": {},
   "outputs": [],
   "source": [
    "# Specify the search endpoint and criteria\n",
    "search_endpoint = 'http://www.loc.gov/search/'\n",
    "parameters = {\n",
    "    'fo' : 'json',\n",
    "    'q'  : 'kittens',\n",
    "    'fa' : 'online-format:image'\n",
    "}"
   ]
  },
  {
   "cell_type": "markdown",
   "metadata": {},
   "source": [
    "* Now that we have our query as python data, we can pass these to requests"
   ]
  },
  {
   "cell_type": "code",
   "execution_count": null,
   "metadata": {},
   "outputs": [],
   "source": [
    "# make the request with the additional parameters\n",
    "response = requests.get(search_endpoint, params = parameters)\n",
    "\n",
    "print('URL:',response.url)\n",
    "print('Response code:',response.status_code)\n",
    "for header, value in response.headers.items():\n",
    "    print('Header:', header, value)"
   ]
  },
  {
   "cell_type": "code",
   "execution_count": null,
   "metadata": {},
   "outputs": [],
   "source": [
    "# parse the response into Python dictionaries\n",
    "kitten_data = response.json()\n",
    "# look at the first result\n",
    "kitten_data['results'][0]"
   ]
  },
  {
   "cell_type": "markdown",
   "metadata": {},
   "source": [
    "* If we look at this result we can see there are some URLs the \n",
    "* [//cdn.loc.gov/service/pnp/hec/43400/43433v.jpg#h=793&w=1024](//cdn.loc.gov/service/pnp/hec/43400/43433v.jpg#h=793&w=1024)\n",
    "* Can we programmatically access this image using Python?\n",
    "    * The answer is YES!"
   ]
  },
  {
   "cell_type": "code",
   "execution_count": null,
   "metadata": {},
   "outputs": [],
   "source": [
    "# Extract the URL from the JSON data\n",
    "kitten_url = kitten_data['results'][0]['image_url'][-1]\n",
    "kitten_url"
   ]
  },
  {
   "cell_type": "code",
   "execution_count": null,
   "metadata": {},
   "outputs": [],
   "source": [
    "# make a request for the image \n",
    "# We need to prepend http to the URL because requests doesn't like the protocol agnostics URLs\n",
    "response = requests.get( kitten_url)\n",
    "# Check to make sure we got JPEG data back\n",
    "response.headers['content-type']"
   ]
  },
  {
   "cell_type": "markdown",
   "metadata": {},
   "source": [
    "* Now we have the JPEG image of a kitten, lets look at it!!!"
   ]
  },
  {
   "cell_type": "code",
   "execution_count": null,
   "metadata": {},
   "outputs": [],
   "source": [
    "# Dispay the content\n",
    "response.content[0:1000]"
   ]
  },
  {
   "cell_type": "markdown",
   "metadata": {},
   "source": [
    "* EEK, that is not a cute kitten picture, that is binary data being barfed into plain text\n",
    "* We need a mechanism for displaying this raw image data not as text but as an image\n",
    "    * Jupyter provides mechanisms for doing this because we are running in an web browser"
   ]
  },
  {
   "cell_type": "code",
   "execution_count": null,
   "metadata": {},
   "outputs": [],
   "source": [
    "# load up the Jupyter/IPython display library\n",
    "from IPython import display"
   ]
  },
  {
   "cell_type": "markdown",
   "metadata": {},
   "source": [
    "* This imports a function that renders JPEG image data as a JPEG image\n",
    "    * See the [documentation](https://ipython.readthedocs.io/en/stable/api/generated/IPython.display.html#IPython.display.display_jpeg) for more information \n",
    "* Jupyter supports a bunch of different formats including "
   ]
  },
  {
   "cell_type": "code",
   "execution_count": null,
   "metadata": {},
   "outputs": [],
   "source": [
    "# Use the display function to render the JPEG image we downloaded in the notebook\n",
    "display.display_jpeg(response.content, raw=True)"
   ]
  },
  {
   "cell_type": "markdown",
   "metadata": {},
   "source": [
    "***KITTENS!!!***"
   ]
  },
  {
   "cell_type": "code",
   "execution_count": null,
   "metadata": {},
   "outputs": [],
   "source": []
  }
 ],
 "metadata": {
  "kernelspec": {
   "display_name": "Python 3 (ipykernel)",
   "language": "python",
   "name": "python3"
  },
  "language_info": {
   "codemirror_mode": {
    "name": "ipython",
    "version": 3
   },
   "file_extension": ".py",
   "mimetype": "text/x-python",
   "name": "python",
   "nbconvert_exporter": "python",
   "pygments_lexer": "ipython3",
   "version": "3.9.13"
  }
 },
 "nbformat": 4,
 "nbformat_minor": 4
}
