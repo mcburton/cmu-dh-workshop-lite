{
 "cells": [
  {
   "cell_type": "markdown",
   "metadata": {},
   "source": [
    "# Application Programming Interfaces (APIs)\n",
    "\n",
    "![Diagram of an API, Image from Software AG](https://www.softwareag.com/pl/images/SAG_API_Portal_KD_1_Large_tcm403-160297.png)\n",
    "\n",
    "* API or application programming interface is not a new term, but it has taken on a new significance with the Web\n",
    "* Now we talk about \"Web APIs\" or \"Web Services\" which are APIs that use web technologies and standards ;)\n",
    "* If UIs are interaces for the user to access a system, APIs are software interfaces for systems to access other systems (with the help of a Developer).\n"
   ]
  },
  {
   "cell_type": "markdown",
   "metadata": {},
   "source": [
    "## What might an API look like?\n",
    "\n",
    "* Imagine having an API that takes a time zone string and returns the current time for that time zone\n",
    "* This API would take a string like \"America/Los_Angeles\" and return \"2019-02-28T20:09:45-07:00\"\n",
    "* One design of the API might look like this:\n",
    "    * http://api.example.com/timezone?tz=America+Los_Angeles\n",
    "\n",
    "```json\n",
    "{\n",
    "  \"time\": \"2019-02-28T20:09:45-07:00\",\n",
    "  \"zone\": \"America/Los_Angeles\"\n",
    "}\n",
    "```\n",
    "\n",
    "* This API has an *endpoint*, `/timezone` that expects a *query paramater, `tz={Timezone location}`"
   ]
  },
  {
   "cell_type": "markdown",
   "metadata": {},
   "source": [
    "## APIs Support Multiple Interfaces\n",
    "\n",
    "* With an API you don't need to build multiple interfaces to applications and platforms\n",
    "* You build a generic interface and the platforms conform to the API specification and data formats\n",
    "\n",
    "![A web page that accesses an API. Image from Express In Action](https://cdn.glitch.com/47219279-662d-49cf-9388-c11e70fac7be%2FScreenshot%202019-02-28%2013.06.03.png?1551377204363)\n",
    "\n",
    "* By separating the content from the representation we can support multiple modes of access\n",
    "\n",
    "![A command line application accessing an API. Image from Express In Action](https://cdn.glitch.com/47219279-662d-49cf-9388-c11e70fac7be%2FScreenshot%202019-02-28%2013.06.31.png?1551377204295)\n",
    "\n",
    "* APIs can use different data formats like XML or proprietary formats\n",
    "* These days many web-based APIs, including the LC API, use a data format called JSON"
   ]
  },
  {
   "cell_type": "markdown",
   "metadata": {},
   "source": [
    "# What is JSON\n",
    "\n",
    "* JSON stands for [*JavaScript Object Notation*](https://www.json.org/)\n",
    "* Is a text-based format that is valid JavaScript code\n",
    "* It is \"self-describing\" and easy to read and understand\n",
    "* A lightweight format for storing and transferring data\n",
    "* While it uses JavaScript syntax, it is supported by nearly every programming language."
   ]
  },
  {
   "cell_type": "markdown",
   "metadata": {},
   "source": [
    "## JSON Data Types\n",
    "\n",
    "* Strings - Strings must be double quotes. `{\"name\":\"Bob\"}`\n",
    "* Numbers - Numbers must be integer or floating point numbers. `5, 5.6`\n",
    "* Objects - Values can be JSON objects. `{\"employee\":{ \"name\":\"John\", \"age\":30, \"city\":\"New York\" }}` (look like anything you know?)\n",
    "* Arrays - Arrays must be an order list of any values. `{\"employees\":[ \"John\", \"Anna\", \"Peter\" ]}`\n",
    "* Boolean - Must be true or false value. `{\"sale\":true}`\n",
    "* Null - Values can also be null. `{\"middlename\":null}`\n"
   ]
  },
  {
   "cell_type": "markdown",
   "metadata": {},
   "source": [
    "## Ways of structuring data in JSON\n",
    "\n",
    "* JSON files can have two main shapes\n",
    "* *Document oriented* which means the JSON data is predominantly a hierarchical tree-like structure\n",
    "* *List oriented* Which means the JSON data is a list of tree-like structres.\n",
    "\n",
    "### List oriented\n",
    "\n",
    "```JSON\n",
    "[{\"first\":\"Matt\",\"last\":\"Burton\",\"city\":\"Pittsburgh\"},\n",
    "{\"name\":\"John\", \"age\":30, \"city\":\"New York\"},\n",
    "{\"first\": \"Jessica\", \"city\":\"Chicago\"}]\n",
    "```\n",
    "\n",
    "### Dictionary oriented\n",
    "\n",
    "```JSON\n",
    "{'address': {'city': 'New York',\n",
    "  'postalCode': '10021-3100',\n",
    "  'state': 'NY',\n",
    "  'streetAddress': '21 2nd Street'},\n",
    " 'age': 27,\n",
    " 'children': [],\n",
    " 'firstName': 'John',\n",
    " 'isAlive': True,\n",
    " 'lastName': 'Smith',\n",
    " 'phoneNumbers': [{'number': '212 555-1234', 'type': 'home'},\n",
    "  {'number': '646 555-4567', 'type': 'office'},\n",
    "  {'number': '123 456-7890', 'type': 'mobile'}],\n",
    " 'spouse': None}\n",
    "```\n",
    "\n",
    "* When working with JSON data, sometimes people will save their data in the *newline delimited JSON* or [ndjson](http://ndjson.org/)\n",
    "* This is basically the same as list oriented, but it doesn't conform to the JSON specification \n",
    "\n",
    "### Newline delimited JSON\n",
    "\n",
    "```JSON\n",
    "{\"first\":\"Matt\",\"last\":\"Burton\",\"city\":\"Pittsburgh\"},\n",
    "{\"name\":\"John\", \"age\":30, \"city\":\"New York\"},\n",
    "{\"first\": \"Jessica\", \"city\":\"Chicago\"}\n",
    "\n",
    "```\n",
    "\n",
    "* Notice the square brackets are missing from the example above\n",
    "* You can't use the standard Python parser, rather you have to parse the file line by line\n"
   ]
  },
  {
   "cell_type": "markdown",
   "metadata": {},
   "source": [
    "## Working with JSON in Python\n",
    "\n",
    "* Even through JSON originates from JavaScript, it fits nicely into Python data types\n",
    "* JSON objects map nicely into Python dictionaries filled with integers, floats, and lists"
   ]
  },
  {
   "cell_type": "code",
   "execution_count": null,
   "metadata": {},
   "outputs": [],
   "source": [
    "# import the JSON module so we can load and save JSON data\n",
    "import json"
   ]
  },
  {
   "cell_type": "markdown",
   "metadata": {},
   "source": [
    "* With the JSON module loaded now we can begin to read and write JSON data"
   ]
  },
  {
   "cell_type": "markdown",
   "metadata": {},
   "source": [
    "## Reading JSON\n",
    "\n",
    "* In Python you parse JSON text into Python data structures using the `json.loads()` and `json.load()` functions.\n",
    "* `json.loads(<string>)` parses a JSON string into Python data structure\n",
    "* `json.load(<file_handler>)` reads a file off disk and parses it into Python data structures "
   ]
  },
  {
   "cell_type": "code",
   "execution_count": null,
   "metadata": {},
   "outputs": [],
   "source": [
    "# create  a string that represents some JSON data\n",
    "json_string = \"\"\"\n",
    "[\n",
    "{\"first\":\"Matt\",\"last\":\"Burton\",\"city\":\"Pittsburgh\"},\n",
    "{\"name\":\"John\", \"age\":30, \"city\":\"New York\"},\n",
    "{\"first\": \"Jessica\", \"city\":\"Chicago\"}\n",
    "]\n",
    "\"\"\"\n",
    "json_string"
   ]
  },
  {
   "cell_type": "code",
   "execution_count": null,
   "metadata": {},
   "outputs": [],
   "source": [
    "type(json_string)"
   ]
  },
  {
   "cell_type": "markdown",
   "metadata": {},
   "source": [
    "* This is a Python string, but it can be parsed into a list of dictionaries using `json.loads()`"
   ]
  },
  {
   "cell_type": "code",
   "execution_count": null,
   "metadata": {},
   "outputs": [],
   "source": [
    "json_data = json.loads(json_string)\n",
    "json_data"
   ]
  },
  {
   "cell_type": "code",
   "execution_count": null,
   "metadata": {},
   "outputs": [],
   "source": [
    "type(json_data)"
   ]
  },
  {
   "cell_type": "markdown",
   "metadata": {},
   "source": [
    "* Amazing! What was a string is now a list\n",
    "* Now the data had been loaded into Python and we can access it "
   ]
  },
  {
   "cell_type": "code",
   "execution_count": null,
   "metadata": {},
   "outputs": [],
   "source": [
    "# how many items in the list\n",
    "len(json_data)"
   ]
  },
  {
   "cell_type": "code",
   "execution_count": null,
   "metadata": {},
   "outputs": [],
   "source": [
    "# get the first item \n",
    "json_data[0]"
   ]
  },
  {
   "cell_type": "code",
   "execution_count": null,
   "metadata": {},
   "outputs": [],
   "source": [
    "# get the city field of the second item\n",
    "json_data[1]['city']"
   ]
  },
  {
   "cell_type": "markdown",
   "metadata": {},
   "source": [
    "* Parsing JSON can be very picky and cryptic\n",
    "* For example, why doesn't this work?"
   ]
  },
  {
   "cell_type": "code",
   "execution_count": null,
   "metadata": {},
   "outputs": [],
   "source": [
    "# create  a string that represents some JSON data\n",
    "bad_json_string = \"\"\"\n",
    "[\n",
    "{\"first\":\"Matt\",\"last\":\"Burton\",\"city\":\"Pittsburgh\"},\n",
    "{\"name\":\"John\", \"age\":30, \"city\":\"New York\"},\n",
    "{\"first\": \"Jessica\", city:\"Chicago\"}\n",
    "]\n",
    "\"\"\"\n",
    "json.loads(bad_json_string)"
   ]
  },
  {
   "cell_type": "markdown",
   "metadata": {},
   "source": [
    "### Reading JSON from files\n",
    "\n",
    "* If you have a JSON file you can read it from disk using `json.load()`\n",
    "    * Example file comes from [wikipedia](https://en.wikipedia.org/wiki/JSON)\n",
    "* You have to open a file handler to the JSON file and then hand that to the `json.load()` function"
   ]
  },
  {
   "cell_type": "code",
   "execution_count": null,
   "metadata": {},
   "outputs": [],
   "source": [
    "# open a file handler in read-only mode\n",
    "with open(\"test.json\", \"r\") as f:\n",
    "    # pass the file handler to the json parser\n",
    "    json_from_file = json.load(f)\n",
    "    \n",
    "json_from_file"
   ]
  },
  {
   "cell_type": "markdown",
   "metadata": {},
   "source": [
    "* This has been parsed into a JSON dictionary\n",
    "* The JSON keys are now Python Dictionary keys"
   ]
  },
  {
   "cell_type": "code",
   "execution_count": null,
   "metadata": {},
   "outputs": [],
   "source": [
    "json_from_file['firstName']"
   ]
  },
  {
   "cell_type": "code",
   "execution_count": null,
   "metadata": {},
   "outputs": [],
   "source": [
    "full_name = json_from_file[\"firstName\"] + \" \" + json_from_file[\"lastName\"]\n",
    "full_name"
   ]
  },
  {
   "cell_type": "markdown",
   "metadata": {},
   "source": [
    "---"
   ]
  },
  {
   "cell_type": "markdown",
   "metadata": {},
   "source": [
    "## API Example\n",
    "\n",
    "* There are many API out in the world, every API is different\n",
    "* The secret to APIs is *reading the documentation*\n",
    "    * Every API is different\n",
    "* We can read the [Pirate Weather API documentation](http://pirateweather.net/en/latest/) to get a sense of how it works, what data it returns, and how to make requests\n",
    "* Many web APIs, including the Pirate Weather API, can be accessed using a regular web browser\n",
    "    * No fancy Python is required"
   ]
  },
  {
   "cell_type": "markdown",
   "metadata": {},
   "source": [
    "### Pirate Weather focast API\n",
    "\n",
    "* If we look at [the documentation](http://pirateweather.net/en/latest/API/) we can see that the API expects requests to be in a specific format\n",
    "    * A specific URL pattern\n",
    "    \n",
    "```\n",
    "https://api.pirateweather.net/forecast/[apikey]/[latitude],[longitude]\n",
    "\n",
    "```\n",
    "\n",
    "* This API requires three pieces of information:\n",
    "    - API Key: o84CE1zoWx77z8X0gNANB14lbgcIwVNu6EPiz3Fh\n",
    "    - Latitude: 38.9072\n",
    "    - Longitude:  77.0369\n",
    "* Here is a Washington DC example: https://api.pirateweather.net/forecast/o84CE1zoWx77z8X0gNANB14lbgcIwVNu6EPiz3Fh/38.9072,-77.0369\n",
    "* If we click this link we will get a JSON response with the weather!\n"
   ]
  },
  {
   "cell_type": "code",
   "execution_count": null,
   "metadata": {},
   "outputs": [],
   "source": []
  }
 ],
 "metadata": {
  "kernelspec": {
   "display_name": "Python 3 (ipykernel)",
   "language": "python",
   "name": "python3"
  },
  "language_info": {
   "codemirror_mode": {
    "name": "ipython",
    "version": 3
   },
   "file_extension": ".py",
   "mimetype": "text/x-python",
   "name": "python",
   "nbconvert_exporter": "python",
   "pygments_lexer": "ipython3",
   "version": "3.9.13"
  }
 },
 "nbformat": 4,
 "nbformat_minor": 4
}
