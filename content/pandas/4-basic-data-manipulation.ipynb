{
 "cells": [
  {
   "cell_type": "markdown",
   "metadata": {},
   "source": [
    "# Basic Data Manipulation\n",
    "\n",
    "* Once your data has been loaded as a Dataframe, you can start using Pandas various functions to quickly explore your data "
   ]
  },
  {
   "cell_type": "code",
   "execution_count": null,
   "metadata": {},
   "outputs": [],
   "source": [
    "# load pandas\n",
    "import pandas as pd\n",
    "\n",
    "# load data\n",
    "center_attendance_pandas = pd.read_csv(\"community-center-attendance.csv\", \n",
    "                                       index_col=\"_id\") # use the column named _id as the row index"
   ]
  },
  {
   "cell_type": "markdown",
   "metadata": {},
   "source": [
    "### Helpful functions for exploring Dataframes and Series"
   ]
  },
  {
   "cell_type": "markdown",
   "metadata": {},
   "source": [
    "* Looking at parts of the Dataframe\n",
    "* `<dataframe>.head(n)` - look at the first n rows of the dataframe\n",
    "* `<dataframe>.tail(n)` - look at the last n rows of the dataframe\n",
    "* `<dataframe>.sample(n)` - randomly select n rows from the dataframe"
   ]
  },
  {
   "cell_type": "code",
   "execution_count": null,
   "metadata": {},
   "outputs": [],
   "source": [
    "# Look at the first 10 rows\n",
    "center_attendance_pandas.head(10)"
   ]
  },
  {
   "cell_type": "code",
   "execution_count": null,
   "metadata": {},
   "outputs": [],
   "source": [
    "# Look at the last 5 rows\n",
    "center_attendance_pandas.tail()"
   ]
  },
  {
   "cell_type": "code",
   "execution_count": null,
   "metadata": {},
   "outputs": [],
   "source": [
    "# Grab 5 random rows\n",
    "center_attendance_pandas.sample(5)"
   ]
  },
  {
   "cell_type": "markdown",
   "metadata": {},
   "source": [
    "* How many rows and columns?\n",
    "* `<dataframe>.shape` - return the rows and columns as a python data structure (not a function!)\n",
    "* `<dataframe>.info()` - Display the datatypes of the index and columns as well as memory usage\n",
    "* `<dataframe>.describe()` - Compute summary statistics for numerical columns"
   ]
  },
  {
   "cell_type": "code",
   "execution_count": null,
   "metadata": {},
   "outputs": [],
   "source": [
    "# How many rows and columns\n",
    "center_attendance_pandas.shape"
   ]
  },
  {
   "cell_type": "code",
   "execution_count": null,
   "metadata": {},
   "outputs": [],
   "source": [
    "# Inspect the datatypes\n",
    "center_attendance_pandas.info()"
   ]
  },
  {
   "cell_type": "markdown",
   "metadata": {},
   "source": [
    "* The output above shows us a lot of implementation details about our dataframe\n",
    "* Data types, number of rows and columns, and the datatype of the column\n",
    "* Also shows us memory usage, which is useful because memory is a limited resource\n",
    "\n",
    "* We can also start doing some computations on the data"
   ]
  },
  {
   "cell_type": "code",
   "execution_count": null,
   "metadata": {},
   "outputs": [],
   "source": [
    "# Compute summary statistics on the numerical columns\n",
    "center_attendance_pandas.describe()"
   ]
  },
  {
   "cell_type": "markdown",
   "metadata": {},
   "source": [
    "* The `describe()` function will automatically compute summary statistics for numerical columns and ignore categorical columns"
   ]
  },
  {
   "cell_type": "markdown",
   "metadata": {},
   "source": [
    "### Counting Numerical Data\n",
    "\n",
    "* We can use traditional Python functions to get information about our Dataframe.\n",
    "* The `len()` function tells us the length of the sequence "
   ]
  },
  {
   "cell_type": "code",
   "execution_count": null,
   "metadata": {},
   "outputs": [],
   "source": [
    "# use a standard python function to get the length of the sequence\n",
    "len(center_attendance_pandas)"
   ]
  },
  {
   "cell_type": "markdown",
   "metadata": {},
   "source": [
    "* So this tells us our dataset has 18,367 rows.\n",
    "* But this is just information about the dataset itself, it doesn't tell us how many people visited community centers\n",
    "* How many people visited all the community centers for all time (in the dataset)?\n",
    "* First let's answer this using pure python"
   ]
  },
  {
   "cell_type": "code",
   "execution_count": null,
   "metadata": {},
   "outputs": [],
   "source": [
    "# Load up the CSV module and center attendance in python data structures\n",
    "import csv\n",
    "\n",
    "with open('community-center-attendance.csv') as f:\n",
    "    center_attendance_python = [row for row in csv.reader(f)]\n",
    "\n",
    "# look at the first ten rows of the data loaded in python\n",
    "center_attendance_python[0:10]"
   ]
  },
  {
   "cell_type": "code",
   "execution_count": null,
   "metadata": {},
   "outputs": [],
   "source": [
    "# create a variable to hold the total attendance\n",
    "total_attendance = 0\n",
    "\n",
    "# loop over the data that was loaded using pure python\n",
    "for row in center_attendance_python[1:]: # skip the header row using a list slice\n",
    "    # add the row count to the total\n",
    "    row_attendance = row[3]\n",
    "    total_attendance = total_attendance + row_attendance\n",
    "\n",
    "print(total_attendance)"
   ]
  },
  {
   "cell_type": "markdown",
   "metadata": {},
   "source": [
    "* oh shoot! The csv module always opens everything as a string\n",
    "* We need to add some type coercion"
   ]
  },
  {
   "cell_type": "code",
   "execution_count": null,
   "metadata": {},
   "outputs": [],
   "source": [
    "# create a variable to hold the total attendance\n",
    "total_attendance = 0\n",
    "\n",
    "# loop over the data that was loaded using pure python\n",
    "for row in center_attendance_python[1:]: # skip the header row using a list slice\n",
    "    # add the row count to the total, convert string to int\n",
    "    row_attendance = int(row[3])\n",
    "    total_attendance = total_attendance + row_attendance\n",
    "\n",
    "print(total_attendance)"
   ]
  },
  {
   "cell_type": "markdown",
   "metadata": {},
   "source": [
    "* Now here is how we do the exact same thing with Pandas 😄\n",
    "* This code selects the `attendance_count` column and then computes the sum of all the values."
   ]
  },
  {
   "cell_type": "code",
   "execution_count": null,
   "metadata": {},
   "outputs": [],
   "source": [
    "# compute the total attendance with the pandas sum function\n",
    "center_attendance_pandas['attendance_count'].sum()"
   ]
  },
  {
   "cell_type": "markdown",
   "metadata": {},
   "source": [
    "### Summary Statistics\n",
    "\n",
    "* We can also look at the summary statistics individually\n",
    "* `<dataframe>[<column name>].mean()` - calculate the mean value for the column values\n",
    "* `<dataframe>[<column name>].std()` - calculate the standard deviation for the column values\n",
    "* `<dataframe>[<column name>].var()` - calculate the variance value for the column values\n",
    "* `<dataframe>[<column name>].median()` - calculate the median value for the column values\n",
    "* `<dataframe>[<column name>].min()` - calculate the minimum value for the column values"
   ]
  },
  {
   "cell_type": "code",
   "execution_count": null,
   "metadata": {},
   "outputs": [],
   "source": [
    "# mean attendance per day at all community centers\n",
    "center_attendance_pandas['attendance_count'].mean()"
   ]
  },
  {
   "cell_type": "code",
   "execution_count": null,
   "metadata": {},
   "outputs": [],
   "source": [
    "# standard deviation\n",
    "center_attendance_pandas['attendance_count'].std()"
   ]
  },
  {
   "cell_type": "code",
   "execution_count": null,
   "metadata": {},
   "outputs": [],
   "source": [
    "# variance\n",
    "center_attendance_pandas['attendance_count'].var()"
   ]
  },
  {
   "cell_type": "code",
   "execution_count": null,
   "metadata": {},
   "outputs": [],
   "source": [
    "# median attendance per day at all community centers\n",
    "center_attendance_pandas['attendance_count'].median()"
   ]
  },
  {
   "cell_type": "code",
   "execution_count": null,
   "metadata": {},
   "outputs": [],
   "source": [
    "# minimum attendance at community centers\n",
    "center_attendance_pandas['attendance_count'].min()"
   ]
  },
  {
   "cell_type": "markdown",
   "metadata": {},
   "source": [
    "* Note, missing values are automatically skipped unless the entire column is NA."
   ]
  },
  {
   "cell_type": "code",
   "execution_count": null,
   "metadata": {},
   "outputs": [],
   "source": [
    "df = pd.DataFrame([[1.4, None], [7.1, -4.5], \n",
    "                  [None, None], [0.75, -1.3]],\n",
    "                 index=['a','b','c','d'],\n",
    "                 columns=['one','two'])\n",
    "df"
   ]
  },
  {
   "cell_type": "code",
   "execution_count": null,
   "metadata": {},
   "outputs": [],
   "source": [
    "df.sum()"
   ]
  },
  {
   "cell_type": "code",
   "execution_count": null,
   "metadata": {},
   "outputs": [],
   "source": [
    "df.sum(axis=1)"
   ]
  },
  {
   "cell_type": "code",
   "execution_count": null,
   "metadata": {},
   "outputs": [],
   "source": [
    "df.mean(axis=1)"
   ]
  },
  {
   "cell_type": "code",
   "execution_count": null,
   "metadata": {},
   "outputs": [],
   "source": [
    "df.mean(axis=1, skipna=False)"
   ]
  },
  {
   "cell_type": "markdown",
   "metadata": {},
   "source": [
    "### Math Operations\n",
    "\n",
    "* You can do mathematical operations that will get applied to ever value in the row or column"
   ]
  },
  {
   "cell_type": "code",
   "execution_count": null,
   "metadata": {},
   "outputs": [],
   "source": [
    "# create a numerical dataframe\n",
    "df = pd.DataFrame([[1.4, 4.7], [7.1, -4.5], \n",
    "                  [3, 7], [0.75, -1.3]],\n",
    "                 index=['a','b','c','d'],\n",
    "                 columns=['one','two'])\n",
    "df"
   ]
  },
  {
   "cell_type": "code",
   "execution_count": null,
   "metadata": {},
   "outputs": [],
   "source": [
    "# multiple two columns against eachother\n",
    "df['one'] * df['two']"
   ]
  },
  {
   "cell_type": "code",
   "execution_count": null,
   "metadata": {},
   "outputs": [],
   "source": [
    "# divide a column by a number\n",
    "df['one'] / 5"
   ]
  },
  {
   "cell_type": "markdown",
   "metadata": {},
   "source": [
    "* Pandas is not only a tool for working with numerical data\n",
    "* Lots of functionality for manipulating categorical data too"
   ]
  },
  {
   "cell_type": "markdown",
   "metadata": {},
   "source": [
    "### Counting Categorical Data\n",
    "\n",
    "* Just like before we can start counting the distribution of values in the column. \n",
    "* how many entries per community center (this isn't counting attendance but counting the number of rows per center)."
   ]
  },
  {
   "cell_type": "markdown",
   "metadata": {},
   "source": [
    "* The \"Pythonic way\""
   ]
  },
  {
   "cell_type": "code",
   "execution_count": null,
   "metadata": {},
   "outputs": [],
   "source": [
    "# Create a dictionary to store the counts\n",
    "center_counter = dict()\n",
    "\n",
    "# loop over the data\n",
    "for row in center_attendance_python[1:]:\n",
    "    center = row[2]\n",
    "    \n",
    "    # check to see if the gender is already in the diction\n",
    "    if center not in center_counter:\n",
    "        # create a new entry\n",
    "        center_counter[center] = 1\n",
    "    else:\n",
    "        # increment a new entry\n",
    "        #center_counter[center] += 1\n",
    "        center_counter[center] = center_counter[center] + 1\n",
    "\n",
    "# Display the dictionary \n",
    "center_counter"
   ]
  },
  {
   "cell_type": "markdown",
   "metadata": {},
   "source": [
    "* The Pandas way is a bit easier"
   ]
  },
  {
   "cell_type": "code",
   "execution_count": null,
   "metadata": {},
   "outputs": [],
   "source": [
    "# Do the same thing with pandas\n",
    "center_attendance_pandas['center_name'].value_counts()"
   ]
  },
  {
   "cell_type": "code",
   "execution_count": null,
   "metadata": {},
   "outputs": [],
   "source": [
    "# change the sort order\n",
    "center_attendance_pandas['center_name'].value_counts().sort_values(ascending=True)"
   ]
  },
  {
   "cell_type": "markdown",
   "metadata": {},
   "source": [
    "## A Few Other Aggregation & Statistical Methods\n",
    "\n",
    "* There are a bunch of other DataFrame and Series methods for working with data"
   ]
  },
  {
   "cell_type": "code",
   "execution_count": null,
   "metadata": {},
   "outputs": [],
   "source": [
    "# select unique values from column, returns a numpy array\n",
    "center_attendance_pandas['center_name'].unique()"
   ]
  },
  {
   "cell_type": "code",
   "execution_count": null,
   "metadata": {},
   "outputs": [],
   "source": [
    "df = pd.DataFrame([[1.4, 10], [7.1, -4.5], \n",
    "                  [2.6, 0], [0.75, -1.3]],\n",
    "                 index=['a','b','c','d'],\n",
    "                 columns=['one','two'])\n",
    "df"
   ]
  },
  {
   "cell_type": "code",
   "execution_count": null,
   "metadata": {},
   "outputs": [],
   "source": [
    "# Does the column contain any zero, empty or false\n",
    "df.all()"
   ]
  },
  {
   "cell_type": "code",
   "execution_count": null,
   "metadata": {},
   "outputs": [],
   "source": [
    "# Return true if there are any elements in the column\n",
    "df.any()"
   ]
  },
  {
   "cell_type": "code",
   "execution_count": null,
   "metadata": {},
   "outputs": [],
   "source": [
    "# Count the number of entries\n",
    "center_attendance_pandas.count()"
   ]
  },
  {
   "cell_type": "code",
   "execution_count": null,
   "metadata": {},
   "outputs": [],
   "source": [
    "# What is the max value in a specified column\n",
    "center_attendance_pandas['attendance_count'].max()"
   ]
  },
  {
   "cell_type": "code",
   "execution_count": null,
   "metadata": {},
   "outputs": [],
   "source": [
    "# What is the index of the max value in specified column\n",
    "center_attendance_pandas['attendance_count'].idxmax()"
   ]
  },
  {
   "cell_type": "code",
   "execution_count": null,
   "metadata": {},
   "outputs": [],
   "source": [
    "# use the output of idxmax() to select the whole row\n",
    "center_attendance_pandas.iloc[center_attendance_pandas['attendance_count'].idxmax()]"
   ]
  },
  {
   "cell_type": "markdown",
   "metadata": {},
   "source": [
    "---"
   ]
  },
  {
   "cell_type": "markdown",
   "metadata": {},
   "source": [
    "## Subsetting Data\n",
    "\n",
    "* It is sometimes helpful to think of a Pandas Dataframe as a little database. \n",
    "* There is data and information stored in the Pandas Dataframe (or Series) and you want to *retrieve* it.\n",
    "* Pandas has multiple mechanisms for getting specific bits of data and information from its data structures. \n",
    "\n",
    "### Masking: Filtering by Values\n",
    "\n",
    "* The most common is to use *masking* to select just the rows you want. \n",
    "* Masking is a two stage process, first you create a sequence of boolean values based upon a conditional expression--which you can think of as a \"query\"--and then you index your dataframe using that boolean sequence. "
   ]
  },
  {
   "cell_type": "code",
   "execution_count": null,
   "metadata": {},
   "outputs": [],
   "source": [
    "# read the data into a pandas dataframe, using the \"_id\" column for index\n",
    "order_data  = pd.read_csv(\"chipotle.tsv\", sep=\"\\t\")\n",
    "# inspect the dataframe\n",
    "order_data.head() "
   ]
  },
  {
   "cell_type": "code",
   "execution_count": null,
   "metadata": {},
   "outputs": [],
   "source": [
    "# Let's look at the chipotle order data\n",
    "order_data.head(10)"
   ]
  },
  {
   "cell_type": "code",
   "execution_count": null,
   "metadata": {},
   "outputs": [],
   "source": [
    "# Let's look at all the columns\n",
    "order_data.info()"
   ]
  },
  {
   "cell_type": "markdown",
   "metadata": {},
   "source": [
    "* How might we only look at particular orders?\n",
    "* First step is to create a *query mask*, a list of `True/False` values for rows that satisfy a particular condition."
   ]
  },
  {
   "cell_type": "code",
   "execution_count": null,
   "metadata": {},
   "outputs": [],
   "source": [
    "# create a query mask for chicken bowls\n",
    "query_mask = order_data['item_name'] == \"Chicken Bowl\"\n",
    "\n",
    "#look at the first 20 items to see what matches\n",
    "query_mask.head(20)"
   ]
  },
  {
   "cell_type": "markdown",
   "metadata": {},
   "source": [
    "* This tells us the row id and True or False if the item type equals chicken bowl\n",
    "* We can look up that row by index and see if it is correct"
   ]
  },
  {
   "cell_type": "code",
   "execution_count": null,
   "metadata": {},
   "outputs": [],
   "source": [
    "order_data.iloc[19]"
   ]
  },
  {
   "cell_type": "markdown",
   "metadata": {},
   "source": [
    "* Yup! So now that we know the mask works, we can create a *subset* of our data containing chicken bowls."
   ]
  },
  {
   "cell_type": "code",
   "execution_count": null,
   "metadata": {},
   "outputs": [],
   "source": [
    "chicken_bowls = order_data[query_mask]\n",
    "chicken_bowls.head()"
   ]
  },
  {
   "cell_type": "markdown",
   "metadata": {},
   "source": [
    "* Now you can do things like calculate the average price for chicken bowl orders"
   ]
  },
  {
   "cell_type": "code",
   "execution_count": null,
   "metadata": {},
   "outputs": [],
   "source": [
    "# Calculate the mean price for chicken bowls\n",
    "chicken_bowls['item_price'].mean()"
   ]
  },
  {
   "cell_type": "code",
   "execution_count": null,
   "metadata": {},
   "outputs": [],
   "source": [
    "# See how many chicken bowls people order\n",
    "chicken_bowls['quantity'].value_counts()"
   ]
  },
  {
   "cell_type": "markdown",
   "metadata": {},
   "source": [
    "* We can also combine query masks using boolean logic\n",
    "* Can we look at just the chicken bowl orders that were less than $10"
   ]
  },
  {
   "cell_type": "code",
   "execution_count": null,
   "metadata": {},
   "outputs": [],
   "source": [
    "# create a query mask for chicken bowls\n",
    "item_query_mask = order_data['item_name'] == \"Chicken Bowl\"\n",
    "# create a query mask for cheap orders\n",
    "price_query_mask = order_data['item_price'] < 10\n",
    "\n",
    "# apply both query masks using boolean AND\n",
    "cheap_chicken_bowls = order_data[item_query_mask & price_query_mask]\n",
    "cheap_chicken_bowls.head()"
   ]
  },
  {
   "cell_type": "code",
   "execution_count": null,
   "metadata": {},
   "outputs": [],
   "source": [
    "# Median price for cheap chicken bowls\n",
    "cheap_chicken_bowls['item_price'].median()"
   ]
  },
  {
   "cell_type": "markdown",
   "metadata": {},
   "source": [
    "* Query masks can be used to filter and create subsets of data\n",
    "* Note, this method of subsetting data creates what is called a \"view\" of the data\n",
    "* You are basically working with a big slice of the original dataframe, not a separate copy of the data\n",
    "* This means if you try an do transformations on that view, you will get an error\n",
    "* For more information, [see the pandas documentation](http://pandas.pydata.org/pandas-docs/stable/indexing.html#indexing-view-versus-copy)"
   ]
  },
  {
   "cell_type": "code",
   "execution_count": null,
   "metadata": {},
   "outputs": [],
   "source": [
    "cheap_chicken_bowls['half_price'] = cheap_chicken_bowls['item_price'] / 2"
   ]
  },
  {
   "cell_type": "code",
   "execution_count": null,
   "metadata": {},
   "outputs": [],
   "source": [
    "copy_of_cheap_chicken_bowls = cheap_chicken_bowls.copy()\n",
    "copy_of_cheap_chicken_bowls['half_price'] = copy_of_cheap_chicken_bowls['item_price'] / 2\n",
    "copy_of_cheap_chicken_bowls.head()"
   ]
  },
  {
   "cell_type": "code",
   "execution_count": null,
   "metadata": {},
   "outputs": [],
   "source": []
  }
 ],
 "metadata": {
  "kernelspec": {
   "display_name": "Python 3 (ipykernel)",
   "language": "python",
   "name": "python3"
  },
  "language_info": {
   "codemirror_mode": {
    "name": "ipython",
    "version": 3
   },
   "file_extension": ".py",
   "mimetype": "text/x-python",
   "name": "python",
   "nbconvert_exporter": "python",
   "pygments_lexer": "ipython3",
   "version": "3.9.13"
  }
 },
 "nbformat": 4,
 "nbformat_minor": 4
}
