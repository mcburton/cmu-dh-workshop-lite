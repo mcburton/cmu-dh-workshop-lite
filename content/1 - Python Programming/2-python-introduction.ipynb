{
 "cells": [
  {
   "cell_type": "markdown",
   "metadata": {},
   "source": [
    "# An introduction to the Python Programming Language\n",
    "\n",
    "* Python is a very popular, general purpose programming language\n",
    "* Can be used for teaching, building applications, and data science\n",
    "* Has a very robust ecosystem for doing data science\n",
    "\n",
    "## Python vs. other languages\n",
    "\n",
    "Unlike Java or C, Python is:\n",
    "* A *dynamically typed* language\n",
    "    * You don't need to specify variable types\n",
    "* *Interpreted* so there is no compilation step when running scripts\n",
    "* Not as fast, but still very fast\n",
    "    * Plenty fast for even big data purposes...if you design your code correctly\n",
    "* FUN!"
   ]
  },
  {
   "cell_type": "markdown",
   "metadata": {},
   "source": [
    "# Python Programming Ecosystem"
   ]
  },
  {
   "cell_type": "markdown",
   "metadata": {
    "slideshow": {
     "slide_type": "slide"
    }
   },
   "source": [
    "\n",
    "![The Python Data Science Ecosystem](images/ecosystem1.png)"
   ]
  },
  {
   "cell_type": "markdown",
   "metadata": {
    "slideshow": {
     "slide_type": "slide"
    }
   },
   "source": [
    "\n",
    "![The Python Data Science Ecosystem](images/ecosystem2.png)"
   ]
  },
  {
   "cell_type": "markdown",
   "metadata": {
    "slideshow": {
     "slide_type": "slide"
    }
   },
   "source": [
    "\n",
    "![The Python Data Science Ecosystem](images/ecosystem3.png)"
   ]
  },
  {
   "cell_type": "markdown",
   "metadata": {
    "slideshow": {
     "slide_type": "slide"
    }
   },
   "source": [
    "\n",
    "![The Python Data Science Ecosystem](images/ecosystem4.png)"
   ]
  },
  {
   "cell_type": "markdown",
   "metadata": {
    "slideshow": {
     "slide_type": "slide"
    }
   },
   "source": [
    "\n",
    "![The Python Data Science Ecosystem](images/ecosystem6.png)"
   ]
  },
  {
   "cell_type": "markdown",
   "metadata": {},
   "source": [
    "# Diving into Python\n",
    "\n",
    "* Whitespace is significant\n",
    "* Use a `#` for comments\n",
    "* Every *statement* is separated by a line (or semi-colon, but this isn't common practice)\n",
    "* Statements are composed of *expressions* \n",
    "* Nested *Code Blocks* are specified by tabbed code\n",
    "\n",
    "## Grammar \n",
    "\n",
    "* Expressions are like clauses\n",
    "* Statements are like sentences\n",
    "* Blocks are like paragraphs"
   ]
  },
  {
   "cell_type": "code",
   "execution_count": null,
   "metadata": {},
   "outputs": [],
   "source": [
    "# For and in keywords, with a variable X and sequence range(10)\n",
    "# Syntax and structure for creating a loop\n",
    "\n",
    "for x in range(10):\n",
    "    # A block of code to run in the loop\n",
    "    # \n",
    "    if x % 2: # If statement is conditional expression\n",
    "        print(x, \"is Odd\") # nested bock of code\n",
    "    else:\n",
    "        print(x, \"is Even\") # nested bock of code"
   ]
  },
  {
   "cell_type": "markdown",
   "metadata": {},
   "source": [
    "---"
   ]
  },
  {
   "cell_type": "markdown",
   "metadata": {},
   "source": [
    "# Variables and Data Types\n",
    "\n",
    "\n",
    "* A variable is a name that refers to a value, so we don't have to literally type the value all the time. \n",
    "* We *assign* different types of data to variables."
   ]
  },
  {
   "cell_type": "markdown",
   "metadata": {},
   "source": [
    "### Assignment Operator\n",
    "\n",
    "* This is how we put *values* into *variables*"
   ]
  },
  {
   "cell_type": "code",
   "execution_count": null,
   "metadata": {},
   "outputs": [],
   "source": [
    "# assign the value 10 to the variable a\n",
    "a = 10"
   ]
  },
  {
   "cell_type": "markdown",
   "metadata": {},
   "source": [
    "### Variable Names and Python Keywords\n",
    "\n",
    "* There are rules and conventions for naming variables (also called *identifiers*) in Python.\n",
    "* Rules:\n",
    "    * Variable names cannot begin with numbers.\n",
    "    * Variable names cannot contain spaces.\n",
    "    * Variable names are case sensitive.\n",
    "    * Variable names cannot be one of the Python *keywords*\n",
    "\n",
    "```\n",
    "and       del       from      None      True\n",
    "as        elif      global    nonlocal  try\n",
    "assert    else      if        not       while\n",
    "break     except    import    or        with\n",
    "class     False     in        pass      yield\n",
    "continue  finally   is        raise\n",
    "def       for       lambda    return\n",
    "```\n",
    "\n",
    "* Conventions:\n",
    "    * Don't start variables with capital letters.\n",
    "    * Use underscores instead of camelCase.\n",
    "    * Use descriptive variable names.\n",
    "    * Read [PEP 8 -- Style Guide for Python Code](https://www.python.org/dev/peps/pep-0008/)\n",
    "\n"
   ]
  },
  {
   "cell_type": "code",
   "execution_count": null,
   "metadata": {},
   "outputs": [],
   "source": [
    "# don't put spaces in your variable names\n",
    "a variable = \"hello\""
   ]
  },
  {
   "cell_type": "code",
   "execution_count": null,
   "metadata": {},
   "outputs": [],
   "source": [
    "# use underscore for spaces\n",
    "a_variable = \"hello\""
   ]
  },
  {
   "cell_type": "code",
   "execution_count": null,
   "metadata": {},
   "outputs": [],
   "source": [
    "# don't use keywords for variable names\n",
    "and = \"hello\""
   ]
  },
  {
   "cell_type": "markdown",
   "metadata": {},
   "source": [
    "---"
   ]
  },
  {
   "cell_type": "markdown",
   "metadata": {},
   "source": [
    "## Data Types\n",
    "\n",
    "* Python has several data types for storing information in memory\n",
    "* When you store data in a variable it is important to know the data type"
   ]
  },
  {
   "cell_type": "code",
   "execution_count": null,
   "metadata": {},
   "outputs": [],
   "source": [
    "message = \"Hello, what a wonderful Thursday morning.\"\n",
    "number = 3\n",
    "pi = 3.1415926535897931"
   ]
  },
  {
   "cell_type": "markdown",
   "metadata": {},
   "source": [
    "* This code creates three variables with three different data types.\n",
    "* The \"type\" of a variable depends upon the value it was assigned\n",
    "* We can use the `type()` function to inspect the data types of a variable"
   ]
  },
  {
   "cell_type": "code",
   "execution_count": null,
   "metadata": {},
   "outputs": [],
   "source": [
    "# What data type is the variable message?\n",
    "type(message)"
   ]
  },
  {
   "cell_type": "code",
   "execution_count": null,
   "metadata": {},
   "outputs": [],
   "source": [
    "# What data type is the variable number?\n",
    "type(number)"
   ]
  },
  {
   "cell_type": "code",
   "execution_count": null,
   "metadata": {},
   "outputs": [],
   "source": [
    "# What data type is the variable pi?\n",
    "type(pi)"
   ]
  },
  {
   "cell_type": "markdown",
   "metadata": {},
   "source": [
    "### Type: Integers\n",
    "\n",
    "* Python has a type, called `int`, that is used for representing integer numbers."
   ]
  },
  {
   "cell_type": "code",
   "execution_count": null,
   "metadata": {},
   "outputs": [],
   "source": [
    "# regular numbers are ints\n",
    "print(4) \n",
    "print(type(4))\n",
    "\n",
    "# negative numbers are ints\n",
    "print(-1) \n",
    "print(type(-1))\n",
    "\n",
    "# Even big numbers are ints\n",
    "print(20928375403298570293847503984570938457)\n",
    "print(type(20928375403298570293847503984570938457))"
   ]
  },
  {
   "cell_type": "markdown",
   "metadata": {},
   "source": [
    "### Type: Floating Point numbers\n",
    "\n",
    "* But what about non-integer numbers?\n",
    "* What would be a non-integer number?\n",
    "* Python has a type, called `float`, that is used for representing fractional numbers."
   ]
  },
  {
   "cell_type": "code",
   "execution_count": null,
   "metadata": {},
   "outputs": [],
   "source": [
    "print(3/4) # display the value of 3/4\n",
    "type(3/4) # what type is 3/4"
   ]
  },
  {
   "cell_type": "code",
   "execution_count": null,
   "metadata": {},
   "outputs": [],
   "source": [
    "# floating point literals\n",
    "print(0.75)\n",
    "type(0.75)"
   ]
  },
  {
   "cell_type": "code",
   "execution_count": null,
   "metadata": {},
   "outputs": [],
   "source": [
    "# use a period to specify floating point\n",
    "print(3.)\n",
    "type(3.)"
   ]
  },
  {
   "cell_type": "code",
   "execution_count": null,
   "metadata": {
    "tags": []
   },
   "outputs": [],
   "source": [
    "# Floating Point Variables (float)\n",
    "x = 2.5\n",
    "y = 3.7521\n",
    "pi = 3.141592653589793238"
   ]
  },
  {
   "cell_type": "code",
   "execution_count": null,
   "metadata": {},
   "outputs": [],
   "source": [
    "# use the type function to inspect variable types\n",
    "type(x)"
   ]
  },
  {
   "cell_type": "markdown",
   "metadata": {},
   "source": [
    "### Type: Strings\n",
    "\n",
    "* Even though everything is a number in the computer world...\n",
    "* Often we need to deal with textual data so we use the *string* type!\n",
    "* The syntax for strings is double (\") or single (') quotes."
   ]
  },
  {
   "cell_type": "code",
   "execution_count": null,
   "metadata": {},
   "outputs": [],
   "source": [
    "print(\"Hello World\")\n",
    "type(\"Hello World\")"
   ]
  },
  {
   "cell_type": "code",
   "execution_count": null,
   "metadata": {
    "tags": []
   },
   "outputs": [],
   "source": [
    "# String Variables \n",
    "name = \"Bob\"\n",
    "car = \"Ford Pinto\"\n",
    "address = '5818 Phillips Avenue, Pittsburgh, PA 15217'"
   ]
  },
  {
   "cell_type": "code",
   "execution_count": null,
   "metadata": {},
   "outputs": [],
   "source": [
    "print(name)\n",
    "print(car)\n",
    "print(address)\n",
    "type(address)"
   ]
  },
  {
   "cell_type": "markdown",
   "metadata": {},
   "source": [
    "* If your string contains a quote, make sure to use double quotes\n",
    "    * And visa versa"
   ]
  },
  {
   "cell_type": "code",
   "execution_count": null,
   "metadata": {},
   "outputs": [],
   "source": [
    "resturant = 'Bob's Pancake Machine'\n",
    "print(resturant)"
   ]
  },
  {
   "cell_type": "code",
   "execution_count": null,
   "metadata": {},
   "outputs": [],
   "source": [
    "resturant = \"Bob's Pancake Machine\"\n",
    "print(resturant)"
   ]
  },
  {
   "cell_type": "code",
   "execution_count": null,
   "metadata": {},
   "outputs": [],
   "source": [
    "print('This string \"contains\" double quotes')"
   ]
  },
  {
   "cell_type": "markdown",
   "metadata": {},
   "source": [
    "### Type: Boolean\n",
    "\n",
    "* Python has a data type for True and False\n",
    "* A boolean is either `True` or `False`"
   ]
  },
  {
   "cell_type": "code",
   "execution_count": null,
   "metadata": {},
   "outputs": [],
   "source": [
    "type(True)"
   ]
  },
  {
   "cell_type": "code",
   "execution_count": null,
   "metadata": {
    "tags": []
   },
   "outputs": [],
   "source": [
    "# Boolean variables\n",
    "x = True\n",
    "y = False"
   ]
  },
  {
   "cell_type": "code",
   "execution_count": null,
   "metadata": {},
   "outputs": [],
   "source": [
    "print(y)\n",
    "type(y)"
   ]
  },
  {
   "cell_type": "markdown",
   "metadata": {},
   "source": [
    "---"
   ]
  },
  {
   "cell_type": "markdown",
   "metadata": {},
   "source": [
    "## Mathematical Operators\n",
    "\n",
    "* The Python programming language could be treated as a very fancy or complicated calculator.\n",
    "* All of the mathematical operators you know and love are available in Python\n",
    "    * Addition: `+`\n",
    "    * Subtraction: `-`\n",
    "    * Multiplication: `*`\n",
    "    * Division: `/`\n",
    "    * Modulus: `%`"
   ]
  },
  {
   "cell_type": "code",
   "execution_count": null,
   "metadata": {},
   "outputs": [],
   "source": [
    "# addition\n",
    "5 + 3"
   ]
  },
  {
   "cell_type": "code",
   "execution_count": null,
   "metadata": {},
   "outputs": [],
   "source": [
    "# subtraction\n",
    "5 - 3"
   ]
  },
  {
   "cell_type": "markdown",
   "metadata": {},
   "source": [
    "* It even works with variables!"
   ]
  },
  {
   "cell_type": "code",
   "execution_count": null,
   "metadata": {
    "tags": []
   },
   "outputs": [],
   "source": [
    "# Basic Mathematical Operations\n",
    "x = 5\n",
    "y = 10\n",
    "z = x + y # addition\n",
    "print(z)\n",
    "z = x - y # subtraction\n",
    "print(z)\n",
    "z = x * y # multiplication\n",
    "print(z)\n",
    "z = x / y # division\n",
    "print(z)\n",
    "z = x ** y # x to the power of y\n",
    "print(z)\n"
   ]
  },
  {
   "cell_type": "markdown",
   "metadata": {},
   "source": [
    "### String Operators\n",
    "\n",
    "* You can use some mathematical operators (+) on string types"
   ]
  },
  {
   "cell_type": "code",
   "execution_count": null,
   "metadata": {},
   "outputs": [],
   "source": [
    "# Combining strings\n",
    "first_name = 'John'\n",
    "last_name = 'Doe'\n",
    "full_name = 'John' + ' ' + 'Doe'\n",
    "print(full_name)"
   ]
  },
  {
   "cell_type": "markdown",
   "metadata": {},
   "source": [
    "* This only works with the `+` operator because it means *concatonate* with strings"
   ]
  },
  {
   "cell_type": "code",
   "execution_count": null,
   "metadata": {},
   "outputs": [],
   "source": [
    "full_name - last_name"
   ]
  },
  {
   "cell_type": "markdown",
   "metadata": {},
   "source": [
    "## Changing Data Types\n",
    "\n",
    "* If you want to do mathematical operations on your data, make sure your data is of the right type\n",
    "* You can't add a string to an integer.\n",
    "* You can't divide a float by a string."
   ]
  },
  {
   "cell_type": "code",
   "execution_count": null,
   "metadata": {},
   "outputs": [],
   "source": [
    "# What will happen when we run this?\n",
    "\"5\" + 5"
   ]
  },
  {
   "cell_type": "markdown",
   "metadata": {},
   "source": [
    "* Use the `int()` function to transform a string into a number"
   ]
  },
  {
   "cell_type": "code",
   "execution_count": null,
   "metadata": {},
   "outputs": [],
   "source": [
    "# store a number as a string\n",
    "number = \"5\"\n",
    "print(number)\n",
    "type(number)"
   ]
  },
  {
   "cell_type": "code",
   "execution_count": null,
   "metadata": {},
   "outputs": [],
   "source": [
    "# transform number from a string to an int\n",
    "number = int(number)\n",
    "print(number)\n",
    "type(number)"
   ]
  },
  {
   "cell_type": "markdown",
   "metadata": {},
   "source": [
    "* Use the `str()` function to *coerce* your data into a string"
   ]
  },
  {
   "cell_type": "code",
   "execution_count": null,
   "metadata": {},
   "outputs": [],
   "source": [
    "# store a number as a number\n",
    "number = 5\n",
    "print(number)\n",
    "type(number)"
   ]
  },
  {
   "cell_type": "code",
   "execution_count": null,
   "metadata": {},
   "outputs": [],
   "source": [
    "# transform a number into a string \n",
    "number = str(number)\n",
    "print(number)\n",
    "type(number)"
   ]
  },
  {
   "cell_type": "markdown",
   "metadata": {},
   "source": [
    "* Use the `float()` function to transform decimal numbers"
   ]
  },
  {
   "cell_type": "code",
   "execution_count": null,
   "metadata": {},
   "outputs": [],
   "source": [
    "# store a decimal number as a string\n",
    "number = \"5.5\"\n",
    "print(number)\n",
    "type(number)"
   ]
  },
  {
   "cell_type": "code",
   "execution_count": null,
   "metadata": {},
   "outputs": [],
   "source": [
    "# transform a number into a float\n",
    "number = float(number)\n",
    "print(number)\n",
    "type(number)"
   ]
  },
  {
   "cell_type": "markdown",
   "metadata": {},
   "source": [
    "* You can't convert all strings to numbers"
   ]
  },
  {
   "cell_type": "code",
   "execution_count": null,
   "metadata": {},
   "outputs": [],
   "source": [
    "number = \"Matt\"\n",
    "print(number)\n",
    "type(number)\n",
    "number = float(number)\n",
    "print(number)\n",
    "type(number)"
   ]
  },
  {
   "cell_type": "code",
   "execution_count": null,
   "metadata": {},
   "outputs": [],
   "source": []
  }
 ],
 "metadata": {
  "kernelspec": {
   "display_name": "Python 3 (ipykernel)",
   "language": "python",
   "name": "python3"
  },
  "language_info": {
   "codemirror_mode": {
    "name": "ipython",
    "version": 3
   },
   "file_extension": ".py",
   "mimetype": "text/x-python",
   "name": "python",
   "nbconvert_exporter": "python",
   "pygments_lexer": "ipython3",
   "version": "3.9.13"
  }
 },
 "nbformat": 4,
 "nbformat_minor": 4
}
