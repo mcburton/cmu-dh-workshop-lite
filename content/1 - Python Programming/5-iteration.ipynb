{
 "cells": [
  {
   "cell_type": "markdown",
   "metadata": {},
   "source": [
    "# Iteration\n",
    "\n",
    "* Iteration allows your program to loop, like functions, this reduces the amount of code you must write\n",
    "* Iteration allows your program to loop, like functions, this reduces the amount of code you must write\n",
    "* Iteration allows your program to loop, like functions, this reduces the amount of code you must write\n",
    "\n",
    "* There are two ways of looping, *while* loops and *for* loops\n",
    "\n",
    "\n",
    "## while loops are pretty good...\n",
    "\n",
    "* `while` loops will keep looping as long as a condition is True \n",
    "\n",
    "```\n",
    "while condition:\n",
    "    # code that executes in the loop block\n",
    "\n",
    "```\n",
    "\n",
    "* Be careful to make sure the condition isn't always true or you will have an infinite loop!\n",
    "\n",
    "```\n",
    "# DANGER CODE\n",
    "while true:\n",
    "   print(\"Iteration allows your program to loop, like functions, this reduces the amount of code you must write\")\n",
    "```\n"
   ]
  },
  {
   "cell_type": "code",
   "execution_count": null,
   "metadata": {},
   "outputs": [],
   "source": [
    "# loop to create a countdown\n",
    "n = 5\n",
    "while n > 0:\n",
    "    print(n)\n",
    "    n = n - 1\n",
    "print('Blastoff!')"
   ]
  },
  {
   "cell_type": "markdown",
   "metadata": {},
   "source": [
    "## but **for** loops are your *real* friend\n",
    "\n",
    "* `for` loops let you iterate over a set or collection of items individually and stops when it hits the end\n",
    "* For loop syntax:\n",
    "\n",
    "```python\n",
    "for [arbitrary variable name] in [a collection or iterator]:\n",
    "    [code that executes in the loop block]\n",
    "    [more code that executes in the loop block]\n",
    "    \n",
    "[code the executes after the loop has completed]\n",
    "```"
   ]
  },
  {
   "cell_type": "code",
   "execution_count": null,
   "metadata": {},
   "outputs": [],
   "source": [
    "\n",
    "a_collection_or_iterator = range(0, 5)\n",
    "\n",
    "# an example for loop\n",
    "for arbitrary_variable_name in a_collection_or_iterator:\n",
    "    print(\"code that executes in the loop block\")\n",
    "    print(\"more code that executes in the loop block\")\n",
    "print(\"code the executes after the loop has completed\")"
   ]
  },
  {
   "cell_type": "markdown",
   "metadata": {},
   "source": [
    "* The `range(0,10)` function acts as an *iterator*, that is, making a thing that is  loop-able, i.e. a list of numbers\n",
    "* the arbitrary variable name can also be accessed inside the loop to access the things you are looping over"
   ]
  },
  {
   "cell_type": "code",
   "execution_count": null,
   "metadata": {},
   "outputs": [],
   "source": [
    "# Iterating through a range of values using the range function\n",
    "for i in range(0, 10):\n",
    "    print(i)"
   ]
  },
  {
   "cell_type": "markdown",
   "metadata": {},
   "source": [
    "* You can also loop over elements of a list and access those elements using the arbitrary variable"
   ]
  },
  {
   "cell_type": "code",
   "execution_count": null,
   "metadata": {},
   "outputs": [],
   "source": [
    "friends = ['Joseph', 'Glenn', 'Sally'] #this is the python list syntax\n",
    "for f in friends:\n",
    "    print('Happy New Year:', f)\n",
    "print('Done!')"
   ]
  },
  {
   "cell_type": "markdown",
   "metadata": {},
   "source": [
    "* You can loop over data and perform computation on those data values"
   ]
  },
  {
   "cell_type": "code",
   "execution_count": null,
   "metadata": {},
   "outputs": [],
   "source": [
    "# count the number of items in a list\n",
    "count = 0\n",
    "for itervar in [3, 41, 12, 9, 74, 15]:\n",
    "    count = count + 1\n",
    "print('Count: ', count)"
   ]
  },
  {
   "cell_type": "code",
   "execution_count": null,
   "metadata": {},
   "outputs": [],
   "source": [
    "# compute the sum of numbers in a list\n",
    "total = 0\n",
    "for itervar in [3, 41, 12, 9, 74, 15, 747, 3, 84]:\n",
    "    total = total + itervar\n",
    "print('Total: ', total)\n"
   ]
  },
  {
   "cell_type": "markdown",
   "metadata": {},
   "source": [
    "* You can also loop through dictionaries in the same way you loop through lists\n",
    "* Note, you will only get the dictionary key values"
   ]
  },
  {
   "cell_type": "code",
   "execution_count": null,
   "metadata": {},
   "outputs": [],
   "source": [
    "# Looping through a dictionary\n",
    "ages = {\n",
    "    \"John\" : 37,\n",
    "    \"Bob\" : 50,\n",
    "    \"Jane\" : 29,\n",
    "    \"Ann\" : 71\n",
    "}\n",
    "\n",
    "for name in ages: \n",
    "    print(name)\n"
   ]
  },
  {
   "cell_type": "markdown",
   "metadata": {},
   "source": [
    "* You can do something called *unpacking* to get both the key and the values in the loop"
   ]
  },
  {
   "cell_type": "code",
   "execution_count": null,
   "metadata": {},
   "outputs": [],
   "source": [
    "# Looping through a dictionary\n",
    "ages = {\n",
    "    \"John\" : 37,\n",
    "    \"Bob\" : 50,\n",
    "    \"Jane\" : 29,\n",
    "    \"Ann\" : 71\n",
    "}\n",
    "\n",
    "# loop over every key/value pair\n",
    "for key, value in ages.items():\n",
    "    print(key, value)\n"
   ]
  },
  {
   "cell_type": "markdown",
   "metadata": {},
   "source": [
    "* When looping through a sequence, the position index and corresponding value can be retrieved at the same time using the enumerate() function.\n"
   ]
  },
  {
   "cell_type": "code",
   "execution_count": null,
   "metadata": {},
   "outputs": [],
   "source": [
    "for i, v in enumerate(['tic', 'tac', 'toe']):\n",
    "    print(i, v)"
   ]
  },
  {
   "cell_type": "markdown",
   "metadata": {},
   "source": [
    "* Use the `break` statement to halt the execution of a loop"
   ]
  },
  {
   "cell_type": "code",
   "execution_count": null,
   "metadata": {},
   "outputs": [],
   "source": [
    "# Loop through 20 numbers\n",
    "for i in range(20):\n",
    "    if i == 13:\n",
    "        print(\"BAD NUMBER!\")\n",
    "        break\n",
    "    else:\n",
    "        print(i)"
   ]
  },
  {
   "cell_type": "markdown",
   "metadata": {},
   "source": [
    "* Notice the loop completely stopped\n",
    "* Maybe instead we want to silently skip it (like in elevators and airplanes)\n",
    "* Use the `continue` statement to move to the next iteration"
   ]
  },
  {
   "cell_type": "code",
   "execution_count": null,
   "metadata": {},
   "outputs": [],
   "source": [
    "# Loop through 20 numbers\n",
    "for i in range(20):\n",
    "    if i == 13:\n",
    "        continue\n",
    "    else:\n",
    "        print(i)"
   ]
  },
  {
   "cell_type": "code",
   "execution_count": null,
   "metadata": {},
   "outputs": [],
   "source": []
  }
 ],
 "metadata": {
  "kernelspec": {
   "display_name": "Python 3 (ipykernel)",
   "language": "python",
   "name": "python3"
  },
  "language_info": {
   "codemirror_mode": {
    "name": "ipython",
    "version": 3
   },
   "file_extension": ".py",
   "mimetype": "text/x-python",
   "name": "python",
   "nbconvert_exporter": "python",
   "pygments_lexer": "ipython3",
   "version": "3.9.13"
  }
 },
 "nbformat": 4,
 "nbformat_minor": 4
}
