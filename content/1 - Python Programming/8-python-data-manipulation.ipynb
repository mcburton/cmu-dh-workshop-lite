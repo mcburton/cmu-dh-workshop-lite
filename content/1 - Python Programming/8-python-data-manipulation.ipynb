{
 "cells": [
  {
   "cell_type": "markdown",
   "metadata": {},
   "source": [
    "# Python Data Manipulation\n",
    "\n",
    "* Now that you have a basic understanding of the Python programming language\n",
    "\n"
   ]
  },
  {
   "cell_type": "markdown",
   "metadata": {},
   "source": [
    "## String Methods\n",
    "\n",
    "* Strings have a bunch of *methods*, functions specifically designed for strings, that can be used to manipulate the text contents of the string\n",
    "* See the [Python documentation](https://docs.python.org/3/library/stdtypes.html#string-methods) for a full list of string methods"
   ]
  },
  {
   "cell_type": "code",
   "execution_count": null,
   "metadata": {},
   "outputs": [],
   "source": [
    "# use the lowercase method on a string literal\n",
    "\"The Batman\".lower()"
   ]
  },
  {
   "cell_type": "code",
   "execution_count": null,
   "metadata": {},
   "outputs": [],
   "source": [
    "# Put a string in a variable\n",
    "superhero = \"The Batman\"\n",
    "\n",
    "superhero.upper()"
   ]
  },
  {
   "cell_type": "markdown",
   "metadata": {},
   "source": [
    "* The `split` method is very handy"
   ]
  },
  {
   "cell_type": "code",
   "execution_count": null,
   "metadata": {},
   "outputs": [],
   "source": [
    "# Make a longer string a split it\n",
    "superhero = \"The Batman bit the frog; he died of poison\"\n",
    "superhero.split()"
   ]
  },
  {
   "cell_type": "code",
   "execution_count": null,
   "metadata": {},
   "outputs": [],
   "source": [
    "# Split on a semicolon instead of a space\n",
    "superhero.split(\";\")"
   ]
  },
  {
   "cell_type": "code",
   "execution_count": null,
   "metadata": {},
   "outputs": [],
   "source": [
    "# Check to see if the string contains a number\n",
    "\"50000\".isdigit()"
   ]
  },
  {
   "cell_type": "code",
   "execution_count": null,
   "metadata": {},
   "outputs": [],
   "source": [
    "# Doesn't work for money\n",
    "\"$50000\".isdigit()"
   ]
  },
  {
   "cell_type": "markdown",
   "metadata": {},
   "source": [
    "* String formatting is a *super* useful way to programmatically create strings\n",
    "* This is a very powerful system, so definitely [check out the documentation](https://docs.python.org/3/library/string.html#formatstrings)"
   ]
  },
  {
   "cell_type": "code",
   "execution_count": null,
   "metadata": {},
   "outputs": [],
   "source": [
    "# create a string template\n",
    "template_string = \"My name is {}\""
   ]
  },
  {
   "cell_type": "code",
   "execution_count": null,
   "metadata": {},
   "outputs": [],
   "source": [
    "name = \"Dr. Strange\"\n",
    "template_string.format(name)"
   ]
  },
  {
   "cell_type": "code",
   "execution_count": null,
   "metadata": {},
   "outputs": [],
   "source": [
    "# create string template variables\n",
    "template_string = \"Oh we are using made up names. Hello, {you}! My name is {me}\"\n",
    "my_name = \"Spiderman\""
   ]
  },
  {
   "cell_type": "code",
   "execution_count": null,
   "metadata": {},
   "outputs": [],
   "source": [
    "# format the template with data values\n",
    "template_string.format(me=my_name, you=name)"
   ]
  },
  {
   "cell_type": "markdown",
   "metadata": {},
   "source": [
    "* Use triple quotes to make strings with newlines"
   ]
  },
  {
   "cell_type": "code",
   "execution_count": null,
   "metadata": {},
   "outputs": [],
   "source": [
    "# Make a Frosty string and split on the lines\n",
    "multiline_example = \"\"\"Nature’s first green is gold,\n",
    "Her hardest hue to hold.\n",
    "Her early leaf’s a flower;\n",
    "But only so an hour.\n",
    "Then leaf subsides to leaf,\n",
    "So Eden sank to grief,\n",
    "So dawn goes down to day\n",
    "Nothing gold can stay.\"\"\"\n",
    "\n",
    "multiline_example.splitlines()"
   ]
  },
  {
   "cell_type": "markdown",
   "metadata": {},
   "source": [
    "* What if we wanted to split the lines and then split the words"
   ]
  },
  {
   "cell_type": "code",
   "execution_count": null,
   "metadata": {},
   "outputs": [],
   "source": [
    "multiline_example.splitlines().split()"
   ]
  },
  {
   "cell_type": "markdown",
   "metadata": {},
   "source": [
    "* When we use `splitlines` we get back a list, to process the values in the list we need to loop over those values"
   ]
  },
  {
   "cell_type": "markdown",
   "metadata": {},
   "source": [
    "---"
   ]
  },
  {
   "cell_type": "markdown",
   "metadata": {},
   "source": [
    "## List Comprehensions\n",
    "\n",
    "* [List comprehensions](https://docs.python.org/3/tutorial/datastructures.html#list-comprehensions) provide a concise way to create lists.\n",
    "* If you find yourself creating lists by performing operations in a `for` loop, a list comprehension is a more *pythonic* way to do this\n",
    "* For example, squaring all the values in a list"
   ]
  },
  {
   "cell_type": "code",
   "execution_count": null,
   "metadata": {},
   "outputs": [],
   "source": [
    "# Create a list of squares\n",
    "# Code from Python documentation\n",
    "squares = []\n",
    "for x in range(10):\n",
    "    squares.append(x**2)\n",
    "\n",
    "squares"
   ]
  },
  {
   "cell_type": "markdown",
   "metadata": {},
   "source": [
    "* Here is the same problem solved with a list comprehension"
   ]
  },
  {
   "cell_type": "code",
   "execution_count": null,
   "metadata": {},
   "outputs": [],
   "source": [
    "# compute the squares and save in a variable called squares\n",
    "squares = [x**2 for x in range(10)]\n",
    "squares"
   ]
  },
  {
   "cell_type": "markdown",
   "metadata": {},
   "source": [
    "* If you find yourself creating an empty list, looping, and appending to that list then you might consider a list comprehension\n",
    "* A list comprehension consists of brackets containing an expression followed by a `for` clause, then zero or more `for` or `if` clauses. "
   ]
  },
  {
   "cell_type": "markdown",
   "metadata": {},
   "source": [
    "* You can call functions in list comprehensions to do more powerful processing"
   ]
  },
  {
   "cell_type": "code",
   "execution_count": null,
   "metadata": {},
   "outputs": [],
   "source": [
    "# create a list of super people\n",
    "list_of_strings = ['Bruce WAYNE', \"  The JOKER\", \"   ThAnOS   \"]\n",
    "\n",
    "# create a function to clean a string\n",
    "def clean_string(to_clean):\n",
    "    # remove whitespace and lowercase\n",
    "    return to_clean.strip().lower()\n",
    "\n",
    "# use a list comprehension to process our list of super people\n",
    "cleaned = [clean_string(x) for x in list_of_strings]\n",
    "cleaned"
   ]
  },
  {
   "cell_type": "markdown",
   "metadata": {},
   "source": [
    "* And this works with string methods, so now we can split the Rober Frost poem"
   ]
  },
  {
   "cell_type": "code",
   "execution_count": null,
   "metadata": {},
   "outputs": [],
   "source": [
    "# Make a Frosty string and split on the lines\n",
    "multiline_example = \"\"\"Nature’s first green is gold,\n",
    "Her hardest hue to hold.\n",
    "Her early leaf’s a flower;\n",
    "But only so an hour.\n",
    "Then leaf subsides to leaf,\n",
    "So Eden sank to grief,\n",
    "So dawn goes down to day\n",
    "Nothing gold can stay.\"\"\"\n",
    "\n",
    "# loop over the each line and split each line into word tokens\n",
    "tokenized = [line.split() for line in multiline_example.splitlines()]\n",
    "tokenized"
   ]
  },
  {
   "cell_type": "markdown",
   "metadata": {},
   "source": [
    "---"
   ]
  },
  {
   "cell_type": "markdown",
   "metadata": {},
   "source": [
    "## Working With CSV Files\n",
    "\n",
    "* CSV files are used to store a large number of variables – or data. They are incredibly simplified spreadsheets – think Excel – only the content is stored in plaintext.\n",
    "* Python has a CSV parser as part of the standard library\n",
    "* To parse CSV files, we use the `csv` module.\n",
    "* The csv module provides a number of built-in functions to make it easier to parse and iterate through CSV files.\n",
    " "
   ]
  },
  {
   "cell_type": "code",
   "execution_count": null,
   "metadata": {},
   "outputs": [],
   "source": [
    "#  load the CSV module \n",
    "import csv"
   ]
  },
  {
   "cell_type": "markdown",
   "metadata": {},
   "source": [
    "* Now we need to tell Python to open a connection to `pgh-mayors.csv` and diabetes_file handler should be processed as a CSV file. \n",
    "*  We do that by calling on the `reader()` function of the csv module"
   ]
  },
  {
   "cell_type": "code",
   "execution_count": null,
   "metadata": {},
   "outputs": [],
   "source": [
    "# open the mayors file\n",
    "with open(\"pgh-mayors.csv\", 'r') as mayors_file:\n",
    "    # Create a CSV reader \n",
    "    mayors = csv.reader(mayors_file)"
   ]
  },
  {
   "cell_type": "markdown",
   "metadata": {},
   "source": [
    "* At this point, the entire CSV file is treated as a table - a collection of rows and columns\n",
    "* We can iterate (loop) through this table and get access to each individual row, just like the line-by-line above\n",
    "* But CSV module automatically splits it all into different values!"
   ]
  },
  {
   "cell_type": "code",
   "execution_count": null,
   "metadata": {},
   "outputs": [],
   "source": [
    "# open the mayors file\n",
    "with open(\"pgh-mayors.csv\", 'r') as mayors_file:\n",
    "    # Create a CSV reader \n",
    "    mayors = csv.reader(mayors_file)\n",
    "    \n",
    "    # loop over the file and print the row contents \n",
    "    for mayor in mayors:\n",
    "        print(mayor)\n",
    "    "
   ]
  },
  {
   "cell_type": "markdown",
   "metadata": {},
   "source": [
    "* You probably noticed that the row variable is just a list - it is a list of values contained in each column.\n",
    "* You can access individual columns exactly the same way you would access values in a list.\n",
    "* For example, the name of each mayor is in a column called 'mayor', which is a second column and therefore has the index of 1"
   ]
  },
  {
   "cell_type": "code",
   "execution_count": null,
   "metadata": {},
   "outputs": [],
   "source": [
    "# open the mayors file\n",
    "with open(\"pgh-mayors.csv\", 'r') as mayors_file:\n",
    "    # Create a CSV reader \n",
    "    mayors = csv.reader(mayors_file)\n",
    "    \n",
    "    # loop over the file and print the row contents \n",
    "    for mayor in mayors:\n",
    "        print(mayor[1])\n",
    "    "
   ]
  },
  {
   "cell_type": "markdown",
   "metadata": {},
   "source": [
    "* You probably also noticed that the first row does not contain data - it's just the column headers\n",
    "* In order for us to do any processing on the mayor, we need to skip the header row\n",
    "* We have to skip the header row. We can do this with the `next()` function to separate the header rows"
   ]
  },
  {
   "cell_type": "code",
   "execution_count": null,
   "metadata": {},
   "outputs": [],
   "source": [
    "# open the diabetes file\n",
    "with open(\"diabetes.csv\", 'r') as diabetes_file:\n",
    "    # Create a CSV reader \n",
    "    diabetes_data = csv.reader(diabetes_file)\n",
    "\n",
    "    # use next to skip the header row\n",
    "    headers = next(diabetes_file)\n",
    "    print(headers)\n",
    "\n",
    "    # loop over the remaining lines file \n",
    "    for row in diabetes_data:\n",
    "        print(row[1]) # print only the values for the chol column\n"
   ]
  },
  {
   "cell_type": "code",
   "execution_count": null,
   "metadata": {},
   "outputs": [],
   "source": [
    "# open the mayors file\n",
    "with open(\"pgh-mayors.csv\", 'r') as mayors_file:\n",
    "    # Create a CSV reader \n",
    "    mayors = csv.reader(mayors_file)\n",
    "    \n",
    "    # save the first row to a variable called headers\n",
    "    headers = next(mayors)\n",
    "    print(\"Headers:\",headers)\n",
    "    \n",
    "    # loop over the file and print the row contents \n",
    "    for mayor in mayors:\n",
    "        print(mayor)\n",
    "    "
   ]
  },
  {
   "cell_type": "markdown",
   "metadata": {},
   "source": [
    "# Who is the longest serving Mayor?\n"
   ]
  },
  {
   "cell_type": "code",
   "execution_count": null,
   "metadata": {},
   "outputs": [],
   "source": [
    "import csv\n",
    "\n",
    "with open(\"pgh-mayors.csv\", \"r\") as mayors_file:\n",
    "    mayors = [mayor for mayor in csv.reader(mayors_file)]\n",
    "mayors[0:2]"
   ]
  },
  {
   "cell_type": "code",
   "execution_count": null,
   "metadata": {},
   "outputs": [],
   "source": [
    "# create an empty dictionary to hold term lengths\n",
    "term_length = {}\n",
    "\n",
    "# loop over all the mayors excluding the first line\n",
    "for mayor in mayors[1:]:\n",
    "    # get teh column with term information\n",
    "    term = mayor[2]\n",
    "    # split on - and unpack into two variables\n",
    "    start,end = term.split(\"-\")\n",
    "    # compute the length by mathing\n",
    "    length = end - start\n",
    "    # save the mayor name and length in our dictionary\n",
    "    term_length[mayor[1]] = length"
   ]
  },
  {
   "cell_type": "code",
   "execution_count": null,
   "metadata": {},
   "outputs": [],
   "source": [
    "# create an empty dictionary to hold term lengths\n",
    "term_length = {}\n",
    "\n",
    "# loop over all the mayors excluding the first line\n",
    "for mayor in mayors[1:]:\n",
    "    # get teh column with term information\n",
    "    term = mayor[2]\n",
    "    # split on - and unpack into two variables\n",
    "    start,end = term.split(\"-\")\n",
    "    # compute the length by mathing\n",
    "    length = int(end) - int(start)\n",
    "    # save the mayor name and length in our dictionary\n",
    "    term_length[mayor[1]] = length"
   ]
  },
  {
   "cell_type": "code",
   "execution_count": null,
   "metadata": {},
   "outputs": [],
   "source": [
    "# create an empty dictionary to hold term lengths\n",
    "term_length = {}\n",
    "\n",
    "# loop over all the mayors excluding the first line\n",
    "for mayor in mayors[1:]:\n",
    "    # get teh column with term information\n",
    "    term = mayor[2]\n",
    "    # split on - and unpack into a term variable\n",
    "    terms = term.split(\"-\")\n",
    "    \n",
    "    if len(terms) < 2:\n",
    "        print(terms)\n",
    "    else:\n",
    "        start, end = terms\n",
    "    \n",
    "    # compute the length by mathing\n",
    "    length = int(end) - int(start)\n",
    "    # save the mayor name and length in our dictionary\n",
    "    term_length[mayor[1]] = length"
   ]
  },
  {
   "cell_type": "code",
   "execution_count": null,
   "metadata": {},
   "outputs": [],
   "source": [
    "# create an empty dictionary to hold term lengths\n",
    "term_length = {}\n",
    "\n",
    "# loop over all the mayors excluding the first line\n",
    "for mayor in mayors[1:]:\n",
    "    # get teh column with term information\n",
    "    term = mayor[2]\n",
    "    # split on - and unpack into a term variable\n",
    "    terms = term.split(\"-\")\n",
    "    \n",
    "    if len(terms) < 2:\n",
    "        length = 1\n",
    "    elif \"present\" in terms[1]:\n",
    "        start = terms[0]\n",
    "        end = 2023\n",
    "    else:\n",
    "        start, end = terms\n",
    "    \n",
    "    # compute the length by mathing\n",
    "    length = int(end) - int(start)\n",
    "    # save the mayor name and length in our dictionary\n",
    "    term_length[mayor[1]] = length\n",
    "term_length"
   ]
  },
  {
   "cell_type": "code",
   "execution_count": null,
   "metadata": {},
   "outputs": [],
   "source": [
    "mayor_name = \"\"\n",
    "longest_term = 0\n",
    "\n",
    "for mayor, term in term_length.items():\n",
    "    if term > longest_term:\n",
    "        mayor_name = mayor\n",
    "        longest_term = term\n",
    "    \n",
    "template = \"{m} served the longest term with {t} years.\"\n",
    "print(template.format(m=mayor_name, t=longest_term))"
   ]
  },
  {
   "cell_type": "code",
   "execution_count": null,
   "metadata": {},
   "outputs": [],
   "source": []
  }
 ],
 "metadata": {
  "kernelspec": {
   "display_name": "Python 3 (ipykernel)",
   "language": "python",
   "name": "python3"
  },
  "language_info": {
   "codemirror_mode": {
    "name": "ipython",
    "version": 3
   },
   "file_extension": ".py",
   "mimetype": "text/x-python",
   "name": "python",
   "nbconvert_exporter": "python",
   "pygments_lexer": "ipython3",
   "version": "3.9.13"
  }
 },
 "nbformat": 4,
 "nbformat_minor": 4
}
