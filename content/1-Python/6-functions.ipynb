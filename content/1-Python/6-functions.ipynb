{
 "cells": [
  {
   "cell_type": "markdown",
   "metadata": {},
   "source": [
    "## Functions\n",
    "\n",
    "* A function is a block of organized, reusable code that is used to perform a single, related action. \n",
    "    * Data goes in and data comes out\n",
    "* Functions provide better modularity when writing programs by allowing you to re-used blocks of code without re-writing it every time\n",
    "    * or using Copy-Paste\n",
    "* Using functions involves writing the function name followed by parentheses.\n",
    "    * `<function name>(<argument 1>, <argument 2>, ...)`\n",
    "* You *call* functions and you can pass *arguments* to a function.\n",
    "* You have already seen a couple functions, what are they?\n"
   ]
  },
  {
   "cell_type": "code",
   "execution_count": null,
   "metadata": {},
   "outputs": [],
   "source": [
    "# what is the python data type of 5\n",
    "type(5)"
   ]
  },
  {
   "cell_type": "code",
   "execution_count": null,
   "metadata": {},
   "outputs": [],
   "source": [
    "# print is a function\n",
    "print(\"hi\", 3, 5.38)"
   ]
  },
  {
   "cell_type": "code",
   "execution_count": null,
   "metadata": {},
   "outputs": [],
   "source": [
    "# this function tells you the length of things\n",
    "# save the results in a variable\n",
    "string_length = len(\"hello world\")\n",
    "string_length"
   ]
  },
  {
   "cell_type": "code",
   "execution_count": null,
   "metadata": {},
   "outputs": [],
   "source": [
    "# import the random and randint functions from the random module\n",
    "from random import random, randint\n",
    "\n",
    "# generate a random number\n",
    "x = random()\n",
    "print(x)"
   ]
  },
  {
   "cell_type": "code",
   "execution_count": null,
   "metadata": {},
   "outputs": [],
   "source": [
    "# use the randint function to generate random integers in a range\n",
    "randint(-5, 10)"
   ]
  },
  {
   "cell_type": "markdown",
   "metadata": {},
   "source": [
    "### Looking at the documentation\n",
    "\n",
    "* Jupyter has some nice functionality for quickly seeing the documentation for a function\n",
    "* Move your cursor into the function name or inside the parameters and hit `shift-tab`\n",
    "* You should see a popup with the function *signature* and *documentation*"
   ]
  },
  {
   "cell_type": "code",
   "execution_count": null,
   "metadata": {},
   "outputs": [],
   "source": [
    "print(\"Type shift-tab\", \"in here somewhere\")"
   ]
  },
  {
   "cell_type": "markdown",
   "metadata": {},
   "source": [
    "## Creating your own functions\n",
    "\n",
    "* We have been using existing functions `type()`, `print()`, `random.random()` \n",
    "* Sometimes the function we need doesn't exist\n",
    "* Function blocks begin with the keyword `def` followed by the function name and parentheses _(  )_.\n",
    "* Any input parameters should be placed within these parentheses. You can also define parameters inside these parentheses.\n",
    "    * When you define a function the inputs are *parameters*\n",
    "    * When you call a function the inputs are *arguments*\n",
    "* The code block within every function starts on a new line after a colon (:) and is indented.\n",
    "* The statement `return <expression>` exits a function, optionally passing back an expression to the caller. A return statement with no arguments is the same as `return None`.\n",
    "* Python lets you create your own functions using the following syntax\n",
    "\n",
    "```python\n",
    "def function_name(parameter_1, parameter_2):\n",
    "\"\"\"Documentation string - notice the triple quotes. \n",
    "That means the string can have multiple lines.\"\"\"\n",
    "\n",
    "    function code\n",
    "    more code\n",
    "    even more code\n",
    "\n",
    "    return <expression>\n",
    "```\n",
    "\n",
    "* To *call* a function you write the name followed by parentheses.\n",
    "* If the function accepts arguments you put them inside the parentheses\n",
    "```python\n",
    "function_name(some_value, another_value)\n",
    "```\n"
   ]
  },
  {
   "cell_type": "code",
   "execution_count": null,
   "metadata": {},
   "outputs": [],
   "source": [
    "# a basic function that takes no parameters and returns no values\n",
    "def print_lyrics():\n",
    "    \"\"\"Print a song\"\"\"\n",
    "    \n",
    "    print(\"I'm a lumberjack, and I'm okay.\")\n",
    "    print('I sleep all night and I work all day.')\n",
    "    \n",
    "    return None # optional"
   ]
  },
  {
   "cell_type": "code",
   "execution_count": null,
   "metadata": {},
   "outputs": [],
   "source": [
    "# Calling a function\n",
    "print_lyrics()\n",
    "print_lyrics()"
   ]
  },
  {
   "cell_type": "markdown",
   "metadata": {},
   "source": [
    "* Functions can have arguments and return values as well"
   ]
  },
  {
   "cell_type": "code",
   "execution_count": null,
   "metadata": {},
   "outputs": [],
   "source": [
    "# create a little addition function\n",
    "def add_two_numbers(num1, num2):\n",
    "    \"\"\"\n",
    "    Function name: add_two_numbers\n",
    "    Parameter(s): num1, num2\n",
    "    Description: This function adds two numbers\n",
    "    Return: This function returns a sum of two numbers\n",
    "    \"\"\"\n",
    "    # add the two parameters and save to a new variable\n",
    "    sum_of_two_numbers = num1 + num2\n",
    "    # return that variable\n",
    "    return sum_of_two_numbers"
   ]
  },
  {
   "cell_type": "code",
   "execution_count": null,
   "metadata": {},
   "outputs": [],
   "source": [
    "# run the function\n",
    "add_two_numbers(1, 4)"
   ]
  },
  {
   "cell_type": "code",
   "execution_count": null,
   "metadata": {},
   "outputs": [],
   "source": [
    "# save the results to a variable\n",
    "result = add_two_numbers(1, 4)"
   ]
  },
  {
   "cell_type": "code",
   "execution_count": null,
   "metadata": {},
   "outputs": [],
   "source": [
    "# print the variable\n",
    "print(result)"
   ]
  },
  {
   "cell_type": "code",
   "execution_count": null,
   "metadata": {},
   "outputs": [],
   "source": [
    "# create a little addition function\n",
    "def addnprint_two_numbers(num1, num2):\n",
    "    \"\"\"\n",
    "    Function name: add_two_numbers\n",
    "    Parameter(s): num1, num2\n",
    "    Description: This function adds two numbers\n",
    "    Return: This function returns a sum of two numbers\n",
    "    \"\"\"\n",
    "    # add the two parameters and save to a new variable\n",
    "    sum_of_two_numbers = num1 + num2\n",
    "    #print the sum\n",
    "    print(sum_of_two_numbers)\n",
    "    # return that variable\n",
    "    return sum_of_two_numbers"
   ]
  },
  {
   "cell_type": "code",
   "execution_count": null,
   "metadata": {},
   "outputs": [],
   "source": [
    "# save the results to a variable\n",
    "result = addnprint_two_numbers(1, 4)\n",
    "result"
   ]
  },
  {
   "cell_type": "markdown",
   "metadata": {},
   "source": [
    "* Why are we seeing the number 5 twice?\n",
    "* The `print()` function displays output as a *side effect* of the program execution\n",
    "* The function's `return` value is then saved in the variable `result` which is then displayed by Jupyter because it is the last value in the code cell"
   ]
  },
  {
   "cell_type": "markdown",
   "metadata": {},
   "source": [
    "### Important notes about functions\n",
    "\n",
    "* A function name along with its parameters make up the functions **signature**\n",
    "* When calling a function, you must pass values for each parameter in EXACTLY the same order as it appears in the parameter list\n",
    "* You can *only* pass the number of variables specified in the function definition\n",
    "* Order matters!"
   ]
  },
  {
   "cell_type": "code",
   "execution_count": null,
   "metadata": {},
   "outputs": [],
   "source": [
    "add_two_numbers(1, 3, 5)"
   ]
  },
  {
   "cell_type": "markdown",
   "metadata": {},
   "source": [
    "* Functions don't automatically check the type of the variable\n",
    "* So type checking and transformation is important in python"
   ]
  },
  {
   "cell_type": "code",
   "execution_count": null,
   "metadata": {},
   "outputs": [],
   "source": [
    "add_two_numbers(\"hello\", 5)"
   ]
  },
  {
   "cell_type": "markdown",
   "metadata": {},
   "source": [
    "## Named parameters\n",
    "* Sometimes, we want parameters to have default values (values that will be automatically assigned to a parameter)\n",
    "* Sometimes, we also want to pick and choose which parameters to pass into a function (have optional parameters)\n",
    "* To address these two use cases, we can create functions with **named** parameters\n",
    "\n",
    "### Syntax for functions with named parameters:\n",
    "\n",
    "```python\n",
    "def function_name( parameter_1_name = parameter_1_value, parameter_2_name = parameter_2_value ):\n",
    "\n",
    "    function code\n",
    "    more code\n",
    "    even more code\n",
    "\n",
    "    return [expression]\n",
    "```"
   ]
  },
  {
   "cell_type": "code",
   "execution_count": null,
   "metadata": {},
   "outputs": [],
   "source": [
    "# Note that \"operation\" is a named parameter.  \n",
    "# It has a default value of \"add\" and can be skipped alltogether\n",
    "def do_math_with_two_numbers(num1, num2, operation = \"add\"):\n",
    "    \"\"\"Perform specified operation on parameters.\"\"\"\n",
    "    if operation == \"add\":\n",
    "        result = num1 + num2\n",
    "    elif operation == \"subtract\":\n",
    "        result = num1 - num2\n",
    "    elif operation == \"multiply\":\n",
    "        result = num1 * num2\n",
    "    elif operation == \"divide\":\n",
    "        result = num1 / num2\n",
    "    return result"
   ]
  },
  {
   "cell_type": "code",
   "execution_count": null,
   "metadata": {},
   "outputs": [],
   "source": [
    "# Call the function without the named parameter\n",
    "test = do_math_with_two_numbers(5, 10)\n",
    "print(test)\n",
    "\n",
    "# Call the function with the named parameter\n",
    "test = do_math_with_two_numbers(5, 10, operation=\"subtract\")\n",
    "print(test)\n",
    "\n"
   ]
  },
  {
   "cell_type": "code",
   "execution_count": null,
   "metadata": {},
   "outputs": [],
   "source": []
  }
 ],
 "metadata": {
  "kernelspec": {
   "display_name": "Python 3 (ipykernel)",
   "language": "python",
   "name": "python3"
  },
  "language_info": {
   "codemirror_mode": {
    "name": "ipython",
    "version": 3
   },
   "file_extension": ".py",
   "mimetype": "text/x-python",
   "name": "python",
   "nbconvert_exporter": "python",
   "pygments_lexer": "ipython3",
   "version": "3.9.13"
  }
 },
 "nbformat": 4,
 "nbformat_minor": 4
}
