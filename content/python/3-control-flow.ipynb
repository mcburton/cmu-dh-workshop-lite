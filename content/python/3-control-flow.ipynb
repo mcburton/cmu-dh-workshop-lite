{
 "cells": [
  {
   "cell_type": "markdown",
   "metadata": {},
   "source": [
    "# Control Flow Statements"
   ]
  },
  {
   "cell_type": "markdown",
   "metadata": {},
   "source": [
    "* We can use *conditional operators* (`==, <, >, !=`), *logical operators* (`and, or`), and *conditional expressions* (`if, else, elif`) to *control the flow of execution*\n",
    "    * Conditional expressions evaluate to *booleans* (`True, False`) to answer Yes/No questions and decide which path to execute\n",
    "    * if true then do this, else do that\n",
    "\n",
    "![The logic of control flow](images/controlflow.jpg)\n",
    "*Source: Automate the Boring Stuff*"
   ]
  },
  {
   "cell_type": "code",
   "execution_count": null,
   "metadata": {},
   "outputs": [],
   "source": [
    "# the image above but in code\n",
    "name = \"Alice\"\n",
    "\n",
    "if name == \"Alice\":\n",
    "    print(\"Hi, Alice.\")"
   ]
  },
  {
   "cell_type": "markdown",
   "metadata": {},
   "source": [
    "* The conditional operator `==` is used to test if two things are the same"
   ]
  },
  {
   "cell_type": "code",
   "execution_count": null,
   "metadata": {},
   "outputs": [],
   "source": [
    "name == \"Alice\""
   ]
  },
  {
   "cell_type": "code",
   "execution_count": null,
   "metadata": {},
   "outputs": [],
   "source": [
    "# testing for equality\n",
    "5 == 5"
   ]
  },
  {
   "cell_type": "code",
   "execution_count": null,
   "metadata": {},
   "outputs": [],
   "source": [
    "# Does five equal six?\n",
    "5 == 6"
   ]
  },
  {
   "cell_type": "markdown",
   "metadata": {},
   "source": [
    "* The conditional operator `!=` is used to sets if two things are NOT the same"
   ]
  },
  {
   "cell_type": "code",
   "execution_count": null,
   "metadata": {},
   "outputs": [],
   "source": [
    "6 != 5"
   ]
  },
  {
   "cell_type": "markdown",
   "metadata": {},
   "source": [
    "* Note the double equals sign in the equality operator, if we had one equals we would be a variable assignment.\n",
    "*  *comparison operators* let you test the relationship between values\n",
    "```python\n",
    "x == y               # x is equal to y\n",
    "x != y               # x is not equal to y\n",
    "x > y                # x is greater than y\n",
    "x < y                # x is less than y\n",
    "x >= y               # x is greater than or equal to y\n",
    "x <= y               # x is less than or equal to y\n",
    "```\n",
    "\n",
    "* Combine these with *logical operators* allow you to express logical operations in your programs.\n",
    "\n",
    "```python\n",
    "x > 0 and x < 10\n",
    "```\n",
    "\n",
    "* This expression is true only when \"the variable x is greater than zero AND less than 10\""
   ]
  },
  {
   "cell_type": "code",
   "execution_count": null,
   "metadata": {},
   "outputs": [],
   "source": [
    "# the variable x is greater than zero AND less than 10\n",
    "x = 5\n",
    "x > 0 and x < 10"
   ]
  },
  {
   "cell_type": "code",
   "execution_count": null,
   "metadata": {},
   "outputs": [],
   "source": [
    "# the variable x is greater than zero AND less than 10\n",
    "x = 50\n",
    "x > 0 and x < 10"
   ]
  },
  {
   "cell_type": "code",
   "execution_count": null,
   "metadata": {},
   "outputs": [],
   "source": [
    "# the variable x is greater than zero AND less than 10\n",
    "x = 50\n",
    "x > 0 or x < 10"
   ]
  },
  {
   "cell_type": "markdown",
   "metadata": {},
   "source": [
    "### Conditional execution\n",
    "\n",
    "* Using these conditional statements we can begin to let the program make decisions\n",
    "* The `if`, `else`, and `elif` statements allow us to steer the direction of your program \n",
    "    * or  *control* the *flow* of execution"
   ]
  },
  {
   "cell_type": "code",
   "execution_count": null,
   "metadata": {},
   "outputs": [],
   "source": [
    "# test to see if x is positive and print if it is\n",
    "x = 5\n",
    "if x > 0:\n",
    "    print(\"x is a positive number\")"
   ]
  },
  {
   "cell_type": "code",
   "execution_count": null,
   "metadata": {},
   "outputs": [],
   "source": [
    "# test to see if x is positive and print if it is\n",
    "x = -5\n",
    "if x > 0:\n",
    "    print(\"x is a positive number\")"
   ]
  },
  {
   "cell_type": "markdown",
   "metadata": {},
   "source": [
    "* Notice, nothing printed because the condition, `x > 5` was false"
   ]
  },
  {
   "cell_type": "code",
   "execution_count": null,
   "metadata": {},
   "outputs": [],
   "source": [
    "if 5 == 5:\n",
    "    print(\"yup\")\n",
    "    print(\"Yup, five is five\")"
   ]
  },
  {
   "cell_type": "code",
   "execution_count": null,
   "metadata": {},
   "outputs": [],
   "source": [
    "if 5 == 6:\n",
    "    print(\"five is six, huh?\")\n",
    "    print(\"reality is broken!\")\n",
    "    \n",
    "# This line executes no matter what\n",
    "print(\"I am done.\")"
   ]
  },
  {
   "cell_type": "markdown",
   "metadata": {},
   "source": [
    "* use `!=` to say \"not equals\""
   ]
  },
  {
   "cell_type": "code",
   "execution_count": null,
   "metadata": {},
   "outputs": [],
   "source": [
    "# testing not equality\n",
    "if 5 != 6:\n",
    "    print(\"five is not six\")\n",
    "\n",
    "# This line executes no matter what\n",
    "print(\"I am done.\")"
   ]
  },
  {
   "cell_type": "markdown",
   "metadata": {},
   "source": [
    "* Works with variables too!"
   ]
  },
  {
   "cell_type": "code",
   "execution_count": null,
   "metadata": {},
   "outputs": [],
   "source": [
    "x = 5\n",
    "y = 6\n",
    "\n",
    "if x < y:\n",
    "    print(x, \"is less than\", y)"
   ]
  },
  {
   "cell_type": "markdown",
   "metadata": {},
   "source": [
    "* We can also chain `if` statments together"
   ]
  },
  {
   "cell_type": "code",
   "execution_count": null,
   "metadata": {},
   "outputs": [],
   "source": [
    "# In this example, we evaluate multiple \"if\" statements and execute them sequentially\n",
    "condition = True\n",
    "\n",
    "if condition == True:\n",
    "    print(\"The code inside if block gets executed\")\n",
    "    \n",
    "if condition == False:\n",
    "    print(\"The code inside this block will not be executed\")\n"
   ]
  },
  {
   "cell_type": "markdown",
   "metadata": {},
   "source": [
    "* We actually don't even need the comparison operator"
   ]
  },
  {
   "cell_type": "code",
   "execution_count": null,
   "metadata": {},
   "outputs": [],
   "source": [
    "# In this example, we evaluate multiple \"if\" statements and execute them sequentially\n",
    "condition = True\n",
    "\n",
    "if condition:\n",
    "    print(\"The code inside if block gets executed\")\n",
    "    \n",
    "if condition:\n",
    "    print(\"The code inside this block will not be executed\")\n"
   ]
  },
  {
   "cell_type": "markdown",
   "metadata": {},
   "source": [
    "* There are several things that evaluate as *false* \n",
    "    * See the [documentation for more details](https://docs.python.org/3/library/stdtypes.html#truth-value-testing)\n",
    "* Here are most of the built-in objects considered false:\n",
    "    * constants defined to be false: None and False.\n",
    "    * zero of any numeric type: 0, 0.0, 0j, Decimal(0), Fraction(0, 1)\n",
    "    * empty sequences and collections: '', (), [], {}, set(), range(0)"
   ]
  },
  {
   "cell_type": "code",
   "execution_count": null,
   "metadata": {},
   "outputs": [],
   "source": [
    "# Set x equal to something considered false\n",
    "x = 0\n",
    "# Check\n",
    "if x:\n",
    "    print(\"X is not falsy\")"
   ]
  },
  {
   "cell_type": "markdown",
   "metadata": {},
   "source": [
    "### Alternative execution\n",
    "\n",
    "* if true do this, else do that "
   ]
  },
  {
   "cell_type": "code",
   "execution_count": null,
   "metadata": {},
   "outputs": [],
   "source": [
    "# check to see if x is even or odd\n",
    "x = 20\n",
    "if (x % 2) == 0: # using the modulo operator\n",
    "    print(\"x is even\")\n",
    "else:\n",
    "    print(\"x is odd\")"
   ]
  },
  {
   "cell_type": "code",
   "execution_count": null,
   "metadata": {},
   "outputs": [],
   "source": [
    "# check to see if x is even or odd\n",
    "x = 21\n",
    "if (x % 2) == 0: # using the modulo operator\n",
    "    print(\"x is even\")\n",
    "else:\n",
    "    print(\"x is odd\")"
   ]
  },
  {
   "cell_type": "markdown",
   "metadata": {},
   "source": [
    "* Here is the same code, but using 0 as false\n",
    "* Why do we have to flip the odd/even?"
   ]
  },
  {
   "cell_type": "code",
   "execution_count": null,
   "metadata": {},
   "outputs": [],
   "source": [
    "x = 20\n",
    "if x % 2:\n",
    "    print(\"x is odd\")\n",
    "else:\n",
    "    print(\"x is even\")"
   ]
  },
  {
   "cell_type": "markdown",
   "metadata": {},
   "source": [
    "### Nested Conditionals\n",
    "\n",
    "* You can put conditional statements inside of other conditional statements\n",
    "* This lets you compose more complex logic in your programs"
   ]
  },
  {
   "cell_type": "code",
   "execution_count": null,
   "metadata": {},
   "outputs": [],
   "source": [
    "x = 5\n",
    "y = 5\n",
    "\n",
    "if x == y:\n",
    "    print('x and y are equal')\n",
    "else:\n",
    "    if x < y:\n",
    "        print('x is less than y')\n",
    "    else:\n",
    "        print('x is greater than y')"
   ]
  },
  {
   "cell_type": "code",
   "execution_count": null,
   "metadata": {},
   "outputs": [],
   "source": [
    "x = 50\n",
    "y = 5\n",
    "\n",
    "if x == y:\n",
    "    print('x and y are equal')\n",
    "else:\n",
    "    if x < y:\n",
    "        print('x is less than y')\n",
    "    else:\n",
    "        print('x is greater than y')"
   ]
  },
  {
   "cell_type": "code",
   "execution_count": null,
   "metadata": {},
   "outputs": [],
   "source": [
    "x = 5\n",
    "y = 50\n",
    "\n",
    "if x == y:\n",
    "    print('x and y are equal')\n",
    "else:\n",
    "    if x < y:\n",
    "        print('x is less than y')\n",
    "    else:\n",
    "        print('x is greater than y')"
   ]
  },
  {
   "cell_type": "markdown",
   "metadata": {},
   "source": [
    "* You can keep nesting them\n",
    "* Just make sure to have the right indentation depth!"
   ]
  },
  {
   "cell_type": "code",
   "execution_count": null,
   "metadata": {},
   "outputs": [],
   "source": [
    "x = 510\n",
    "y = 50\n",
    "\n",
    "if x == y:\n",
    "    print('x and y are equal')\n",
    "else:\n",
    "    if x < y:\n",
    "        print('x is less than y')\n",
    "    else:\n",
    "        if x > (y + 100) :\n",
    "            print(\"x is a lot greater than y\")\n",
    "        else:\n",
    "            print('x is greater than y')"
   ]
  },
  {
   "cell_type": "code",
   "execution_count": null,
   "metadata": {},
   "outputs": [],
   "source": [
    "# indentation error\n",
    "x = 510\n",
    "y = 50\n",
    "\n",
    "if x == y:\n",
    "    print('x and y are equal')\n",
    "else:\n",
    "    if x < y:\n",
    "        print('x is less than y')\n",
    "    else:\n",
    "      if x > (y + 100) :\n",
    "            print(\"x is a lot greater than y\")\n",
    "        else:\n",
    "            print('x is greater than y')"
   ]
  },
  {
   "cell_type": "markdown",
   "metadata": {},
   "source": [
    "* If you use Jupyter, it will automatically add indentation when you create code blocks"
   ]
  },
  {
   "cell_type": "markdown",
   "metadata": {},
   "source": [
    "### Chained Conditionals\n",
    "\n",
    "* If there are more than two conditions you want to check use `elif` (else if)\n",
    "* Use there if there are more than two branches in your logic"
   ]
  },
  {
   "cell_type": "code",
   "execution_count": null,
   "metadata": {},
   "outputs": [],
   "source": [
    "# What if we want more than two conditions?\n",
    "\n",
    "user_input_str = input(\"Please enter a number: \\n\")\n",
    "user_input_num = int(user_input_str)\n",
    "if user_input_num > 10:\n",
    "    print(\"You entered number \" + str(user_input_num) + \". That number is greater than 10\")\n",
    "elif user_input_num == 10:\n",
    "    print(\"You entered number \" + str(user_input_num) + \". That number equals to 10\")\n",
    "else:\n",
    "    print(\"You entered number \" + str(user_input_num) + \". That number is less than 10\")\n",
    "    \n"
   ]
  },
  {
   "cell_type": "markdown",
   "metadata": {},
   "source": [
    "* You can have as many conditional statements as you want\n",
    "* But your hands might get tired from typing!"
   ]
  },
  {
   "cell_type": "code",
   "execution_count": null,
   "metadata": {},
   "outputs": [],
   "source": [
    "# multiple conditions\n",
    "\n",
    "\n",
    "age = int(input(\"Give me your age\"))\n",
    "\n",
    "if 0 < age < 1:\n",
    "    print(\"you a baby\")\n",
    "elif 1 <= age <= 3:\n",
    "    print(\"you a toddler\")\n",
    "elif 3 <= age <= 9:\n",
    "    print(\"you a kid\")\n",
    "elif 10 <= age <= 12:\n",
    "    print(\"you a tween\")\n",
    "elif 13 <= age <= 17:\n",
    "    print(\"you a teen\")\n",
    "elif 18 <= age < 120:\n",
    "    print(\"You an Adult, welcome to misery.\")\n",
    "else:\n",
    "    print(\"No one can live that long!\")\n",
    "    "
   ]
  },
  {
   "cell_type": "code",
   "execution_count": null,
   "metadata": {},
   "outputs": [],
   "source": []
  }
 ],
 "metadata": {
  "kernelspec": {
   "display_name": "Python 3 (ipykernel)",
   "language": "python",
   "name": "python3"
  },
  "language_info": {
   "codemirror_mode": {
    "name": "ipython",
    "version": 3
   },
   "file_extension": ".py",
   "mimetype": "text/x-python",
   "name": "python",
   "nbconvert_exporter": "python",
   "pygments_lexer": "ipython3",
   "version": "3.9.13"
  }
 },
 "nbformat": 4,
 "nbformat_minor": 4
}
