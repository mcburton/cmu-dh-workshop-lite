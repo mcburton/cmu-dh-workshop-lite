{
 "cells": [
  {
   "cell_type": "markdown",
   "metadata": {},
   "source": [
    "# Files\n",
    "\n",
    "* Up to now we haven't really been doing much with data, only what we type into the notebooks (short strings and numbers)\n",
    "* In the real world we don't type our data into notebooks, we store them in files!\n",
    "* Opening files is where Python becomes useful for processing larger amounts of data\n",
    "* Lets start with a small text file that has only a few lines\n",
    "    * Look at `poem.txt` in the JupyterLab file browser"
   ]
  },
  {
   "cell_type": "markdown",
   "metadata": {},
   "source": [
    "## Opening files\n",
    "\n",
    "* Use the `open(<filepath>, <mode>)` function to establish a *connection* to a file on disk\n",
    "* When you connect to a file it can have different modes. Indicate a mode using a short string\n",
    "    * `r` - Read only\n",
    "    * `w` - Write (overwriting existing contents)\n",
    "    * `a` - Append to a file\n",
    "    * `x` - Write a new file (fails is file already exists)\n",
    "    * `b` - Binary mode, for opening non-text files\n",
    "* Python reads files as text by default. You can also specify the encoding with the `encoding` argument.\n",
    "    * `utf-8` is the default.\n",
    "* Once a file has been opened we can do operations on it like reading it into memory\n",
    "* Python has a special syntax for safely opening and working with files\n",
    "\n",
    "The `with open` syntax for safely opening files:\n",
    "\n",
    "```python\n",
    "with open(<filepath>, '<mode>', <optional encoding>) as <variable>:\n",
    "    # do something\n",
    "    # the file is open inside this block\n",
    "\n",
    "# the file is closed outside this block\n",
    "```"
   ]
  },
  {
   "cell_type": "markdown",
   "metadata": {},
   "source": [
    "* The `file_handler` is a connection to the file, but it isn't the file contents itself\n",
    "* We use the `read()` function to read the entire file into memory at once\n",
    "    * Don't do this with large files! We will use other techniques to read their contents"
   ]
  },
  {
   "cell_type": "code",
   "execution_count": null,
   "metadata": {},
   "outputs": [],
   "source": [
    "with open(\"poem.txt\", 'r') as file_handler: # the 'r' tells Python you are Reading the file\n",
    "    # read the file content into a variable \n",
    "    file_contents = file_handler.read()\n",
    "\n",
    "file_contents"
   ]
  },
  {
   "cell_type": "markdown",
   "metadata": {},
   "source": [
    "* One thing to note, the \"\\n\" gets printed as a newline by the `print()` function vs. raw output from Jupyter\n",
    "* When working with files it is really important to understand the *newline* character\n",
    "* A newline is represented in a string by `\\n`\n",
    "* This is useful for processing a text file line-by-line"
   ]
  },
  {
   "cell_type": "code",
   "execution_count": null,
   "metadata": {},
   "outputs": [],
   "source": [
    "# A string with a newline in it\n",
    "print(\"Hello\\nWorld!\")"
   ]
  },
  {
   "cell_type": "code",
   "execution_count": null,
   "metadata": {},
   "outputs": [],
   "source": [
    "# display the contents of file_contents using print() instead of Jupyter Output\n",
    "print(file_contents)"
   ]
  },
  {
   "cell_type": "markdown",
   "metadata": {},
   "source": [
    "* It is useful to know that there are some minor differences in the display of output when you use the `print()` function vs. displaying something in the last line of a cell in Jupyter"
   ]
  },
  {
   "cell_type": "markdown",
   "metadata": {},
   "source": [
    "## Working with files line by line\n",
    "\n",
    "* When you have files with data on each line, especially large files, you can loop over them \n",
    "* Just like iterating over lists, you can iterate over files\n",
    "* Python reads the contents of the file until it hits \"\\n\" and then it puts that in the loop variable\n",
    "* Useful for working with *extremely large* files because you only store one line in memory at a time"
   ]
  },
  {
   "cell_type": "code",
   "execution_count": null,
   "metadata": {},
   "outputs": [],
   "source": [
    "# open the file\n",
    "with open(\"poem.txt\", 'r') as file_handler:\n",
    "    for line in file_handler:\n",
    "        print(line)\n",
    "        "
   ]
  },
  {
   "cell_type": "markdown",
   "metadata": {},
   "source": [
    "* Anyone guess why we have extra blank lines?"
   ]
  },
  {
   "cell_type": "markdown",
   "metadata": {},
   "source": [
    "### Reading Data Files\n",
    "\n",
    "* A file handler is not the file, it is a pointer to the file\n",
    "* This is how python can work with HUGE files\n",
    "* We can process large files line by line (assuming there are multiple lines)\n",
    "* Each line gets treated as a separate string"
   ]
  },
  {
   "cell_type": "markdown",
   "metadata": {},
   "source": [
    "* Lets count the lines of the file"
   ]
  },
  {
   "cell_type": "code",
   "execution_count": null,
   "metadata": {},
   "outputs": [],
   "source": [
    "with open('leaves-of-grass.txt', 'r') as file_handler:\n",
    "    count = 0\n",
    "    for line in file_handler:\n",
    "        #count = count +1\n",
    "        count += 1\n",
    "\n",
    "print(count)"
   ]
  },
  {
   "cell_type": "markdown",
   "metadata": {},
   "source": [
    "## Reading in all the data\n",
    "\n",
    "* Why don't we read every line of the file into memory as a list"
   ]
  },
  {
   "cell_type": "code",
   "execution_count": null,
   "metadata": {},
   "outputs": [],
   "source": [
    "# create an empty list to store each line\n",
    "data = [] \n",
    "\n",
    "# count the number of lines in the text file\n",
    "with open('leaves-of-grass.txt', 'r') as file_handler:    \n",
    "    for line in file_handler:\n",
    "        # use the append function to add each line\n",
    "        data.append(line)\n",
    "\n",
    "print(\"Length:\", len(data))\n",
    "print(\"First 10 lines:\", data[0:10])\n"
   ]
  }
 ],
 "metadata": {
  "kernelspec": {
   "display_name": "Python 3 (ipykernel)",
   "language": "python",
   "name": "python3"
  },
  "language_info": {
   "codemirror_mode": {
    "name": "ipython",
    "version": 3
   },
   "file_extension": ".py",
   "mimetype": "text/x-python",
   "name": "python",
   "nbconvert_exporter": "python",
   "pygments_lexer": "ipython3",
   "version": "3.9.13"
  }
 },
 "nbformat": 4,
 "nbformat_minor": 4
}
